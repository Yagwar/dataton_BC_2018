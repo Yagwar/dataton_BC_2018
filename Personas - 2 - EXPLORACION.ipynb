{
 "cells": [
  {
   "cell_type": "markdown",
   "metadata": {},
   "source": [
    "# Dataton BC 2018\n",
    "\n",
    "*Dirección de Capacidades Analíticas y Gobierno de Información, Grupo Bancolombia*<br>\n",
    "Esta versión: *2018-10-17*<br>\n",
    "Documentación tablas\n",
    "\n",
    "## Naturaleza de los datos\n",
    "\n",
    "Los datos entregados en este reto corresponden a transacciones realizadas por clientes persona del banco vía [PSE](https://www.pse.com.co/inicio). Estas transacciones, a diferencia de las transacciones realizadas vía POS, no cuentan con un código [MCC](https://en.wikipedia.org/wiki/Merchant_category_code) atado a la transacción, que permite conocer la categoría de comercio a la que pertence el establecimiento de comercio donde se realiza la transacción. Adicionalmente, muchas de estas transferencias por PSE corresponden a transferencias de pagos de servicios públicos, seguros, colegios, arrendamientos, y otros gastos que pueden ser denominados como gastos grandes. En el marco de un sistema de gestión de finanzas personales, poder categorizar adecuadamente estas transacciones que se realizan por PSE es de suma importancia para contar con una foto completa de la actividad de gastos de los clientes. Para este reto, los equipos participantes tendrán acceso a una muestra de transacciones PSE que corresponden a algo más de 300 mil clientes (persona), seleccionados de manera aleatoria. La tabla de transacciones cuenta con 11.8 millones de registros (uno para cada transacción), realizados entre septiembre de 2016 y octubre de 2018.\n",
    "\n",
    "**NOTA** Los datos han pasado por un proceso relativamente simple de curación, pero se han dejado algunos ruidos en la calidad de éstos con el fin de que los equipos también lleven a cabo un proceso de inspección y limpieza.\n",
    "\n",
    "## Tablas\n",
    "\n",
    "### dt_trxpse_personas_2016_2018_muestra_adjt\n",
    "\n",
    "* Tabla con transacciones PSE durante 2016-09 a 2018-10 (muestra aleatoria de clientes persona -- 340 mil clientes --)\n",
    "\n",
    "| **Campo**     | **Descripción**                    | **Tipo**       |\n",
    "| ------------- |:----------------------------------:|:--------------:|\n",
    "| id_trn_ach    | identificador único de transacción | string         |\n",
    "| id_cliente    | id. único de cliente (pagador)     | bigint         |\n",
    "| fecha         | fecha de transacción               | decimal(8,0)   |\n",
    "| hora          | hora de transacción (HHMMSS)       | decimal(6,0)   |\n",
    "| valor_trx     | valor ($) transacción              | double         |\n",
    "| ref1          | texto libre referencia 1           | string         |\n",
    "| ref2          | texto libre referencia 2           | string         |\n",
    "| ref3          | texto libre referencia 3           | string         |\n",
    "| sector        | sector eco. receptor               | varchar(24)    |\n",
    "| subsector     | subsector eco. receptor            | varchar(62)    |\n",
    "| descripcion   | descripción subsector receptor     | varchar(24)    |\n",
    "\n",
    "### dt_info_pagadores_muestra\n",
    "\n",
    "* Tabla con (alguna) información demográfica de los pagadores (muestra aleatoria de 340 mil clientes)\n",
    "\n",
    "| **Campo**       | **Descripción**                    | **Tipo**       |\n",
    "| --------------- |:----------------------------------:|:--------------:|\n",
    "| id_cliente      | id. único de cliente (pagador)     | bigint         |\n",
    "| seg_str         | segmento estructural               | string         |\n",
    "| ocupacion       | ocupación                          | string         |\n",
    "| tipo_vivienda   | tipo de vivienda                   | string         |\n",
    "| nivel_academico | nivel académico                    | string         |\n",
    "| estado_civil    | estado civil                       | string         |\n",
    "| genero          | genero                             | string         |\n",
    "| edad            | edad                               | int            |\n",
    "| ingreso_rango   | rango de ingreso estimado          | string         |\n",
    "\n",
    "El **seg_str** corresponde a la segmentación estructural, que solo depende de los ingresos reportados por el cliente y su tamaño comercial (volumen de activos y pasivos con el banco). Posibles valores son PERSONAL, PERSONAL PLUS, EMPRENDEDOR, PREFERENCIAL, OTRO (incluye también clientes no segmentados debido a falta de información de éstos).\n",
    "\n",
    "**ocupacion**\n",
    "\n",
    "| **Código** | **Descripción**           |\n",
    "| ---------- |:-------------------------:|\n",
    "| E          | SOCIO O EMPLEADO - SOCIO  |    \t\t\n",
    "| I          | DESEMPLEADO CON INGRESOS  |    \t\t\n",
    "| O          | OTRA                      |\n",
    "| P          | INDEPENDIENTE             |          \t\t\n",
    "| S          | DESEMPLEADO SIN INGRESOS  |  \t\t\n",
    "| 1          | EMPLEADO                  |  \t\t\n",
    "| 2          | ESTUDIANTE                |  \t\t\n",
    "| 3          | INDEPENDIENTE             | \t\t\n",
    "| 4          | HOGAR               \t\t |\n",
    "| 5          | JUBILADO                  |  \t\t\n",
    "| 6          | AGRICULTOR                |  \t\t\n",
    "| 7          | GANADERO                  |  \t\t\n",
    "| 8          | COMERCIANTE               |  \t\t\n",
    "| 9          | RENTISTA DE CAPITAL       |\n",
    "\n",
    "Si en los datos aparece algún otro código no listado en la tabla anterior, es posible asumir que se trata de un valor nulo, no disponible para el cliente en cuestión.\n",
    "\n",
    "**tipo_vivienda**\n",
    "\n",
    "| **Código** | **Descripción**           |\n",
    "| ---------- |:-------------------------:|\n",
    "| A          | ALQUILADA                 |\n",
    "| R          | ALQUILADA                 |\n",
    "| F          | FAMILIAR                  |\n",
    "| I          | NO INFORMA                |\n",
    "| P          | PROPIA                    |\n",
    "| O          | PROPIA                    |\n",
    "\n",
    "Si en los datos aparece algún otro código no listado en la tabla anterior, es posible asumir que se trata de un valor nulo, no disponible para el cliente en cuestión.\n",
    "\n",
    "**nivel_academico**\n",
    "\n",
    "| **Código** | **Descripción**           |\n",
    "| ---------- |:-------------------------:|\n",
    "| H          | BACHILLERATO              |\n",
    "| B          | BACHILLERATO              |\n",
    "| U          | UNIVERSITARIO             |\n",
    "| E          | ESPECIALIZACION           |\n",
    "| N          | NINGUNO                   |\n",
    "| P          | PRIMARIA                  |\n",
    "| S          | POSTGRADO                 |\n",
    "| T          | TECNICO                   |\n",
    "| I          | NO INFORMA                |\n",
    "\n",
    "**estado_civil**\n",
    "\n",
    "| **Código** | **Descripción**           |\n",
    "| ---------- |:-------------------------:|\n",
    "| S          | SOLTERO                   |\n",
    "| M          | CASADO                    |\n",
    "| F          | DESCONOCIDO               |\n",
    "| I          | NO INFORMA                |\n",
    "| D          | DIVORCIADO                |\n",
    "| W          | VIUDO                     |\n",
    "| O          | OTRO                      |\n",
    "\n",
    "**genero**\n",
    "\n",
    "| **Código** | **Descripción**           |\n",
    "| ---------- |:-------------------------:|\n",
    "| F          | FEMENINO                  |\n",
    "| M          | MASCULINO                 |\n",
    "\n",
    "## Categorización propuesta por el equipo de analítica de personas\n",
    "\n",
    "En el Banco ya se han llevado a cabo esfuerzos por categorizar transacciones provenientes del canal POS (con tarjetas débito y crédito), lo cual ha incluído, entre otras cosas, una depuración y limpieza de los códigos MCC. A continuación mostramos, a manera de referencia, la categorización propuesta por el equipo.\n",
    "\n",
    "1. Comida\n",
    "2. Hogar\n",
    "3. Cuidado personal\n",
    "4. Entretenimiento\n",
    "5. Educación\n",
    "6. Transporte\n",
    "7. Viajes\n",
    "8. Ahorro\n",
    "9. Pago de deudas\n",
    "10. Ingresos\n",
    "11. Retiros en efectivo\n",
    "12. Mascotas\n",
    "13. moda\n",
    "14. Tecnología y comunicaciones\n",
    "15. Otros\n",
    "\n",
    "## NOTA IMPORTANTE\n",
    "\n",
    "Recuerden que esta información aún contiene un elevado nivel de ruido. No solo no ha sido depurada de posibles datos atípicos (transacciones de valor muy elevado) fruto de errores o transacciones fallidas, sino que también cuenta con el ruido asociado al campo de referencia, donde se involucra el factor humano, ya que son campos de texto libre que pueden contener cualquier tipo de información.\n",
    "\n",
    "Por seguridad, hemos eliminado cualquier número presente en dichos campos de referencia (cédulas, nits, montos, contratos, etc.).\n"
   ]
  },
  {
   "cell_type": "code",
   "execution_count": 1,
   "metadata": {},
   "outputs": [],
   "source": [
    "import pandas as pd\n",
    "import numpy as np\n",
    "import seaborn as sns\n",
    "import matplotlib\n",
    "import matplotlib.pyplot as plt\n",
    "import random\n",
    "import time\n",
    "%matplotlib inline\n",
    "import matplotlib.animation as animation\n",
    "import csv\n",
    "matplotlib.style.use('seaborn')\n",
    "\n",
    "from sklearn.feature_extraction.text import CountVectorizer\n",
    "from sklearn.feature_extraction.text import TfidfTransformer\n",
    "from sklearn.feature_extraction.text import TfidfVectorizer\n",
    "from sklearn.decomposition import PCA\n",
    "from sklearn import manifold\n",
    "from sklearn.cluster import AgglomerativeClustering\n",
    "from scipy.cluster import hierarchy\n",
    "from sklearn.cluster import DBSCAN\n",
    "from sklearn.metrics.pairwise import pairwise_distances\n",
    "# from wordcloud import WordCloud\n",
    "\n",
    "from mpl_toolkits.mplot3d import Axes3D"
   ]
  },
  {
   "cell_type": "markdown",
   "metadata": {},
   "source": [
    "## Ideas\n",
    "* Identificar outliers respecto a transacciones\n",
    "\n",
    "Mirar una transacción respecto al tiempo y a la persona que la realiza\n",
    "compararla con otras personas cercanas y compararla con otras transacciones similares y también las cercanas en el tiempo "
   ]
  },
  {
   "cell_type": "markdown",
   "metadata": {},
   "source": [
    "# PreProcesamiento de los datos\n",
    "Carga de los archivos y exploración de las variables\n"
   ]
  },
  {
   "cell_type": "code",
   "execution_count": 2,
   "metadata": {},
   "outputs": [
    {
     "data": {
      "text/html": [
       "<div>\n",
       "<style scoped>\n",
       "    .dataframe tbody tr th:only-of-type {\n",
       "        vertical-align: middle;\n",
       "    }\n",
       "\n",
       "    .dataframe tbody tr th {\n",
       "        vertical-align: top;\n",
       "    }\n",
       "\n",
       "    .dataframe thead th {\n",
       "        text-align: right;\n",
       "    }\n",
       "</style>\n",
       "<table border=\"1\" class=\"dataframe\">\n",
       "  <thead>\n",
       "    <tr style=\"text-align: right;\">\n",
       "      <th></th>\n",
       "      <th>id_cliente</th>\n",
       "      <th>seg_str</th>\n",
       "      <th>ocupacion</th>\n",
       "      <th>tipo_vivienda</th>\n",
       "      <th>nivel_academico</th>\n",
       "      <th>estado_civil</th>\n",
       "      <th>genero</th>\n",
       "      <th>edad</th>\n",
       "      <th>ingreso_rango</th>\n",
       "    </tr>\n",
       "  </thead>\n",
       "  <tbody>\n",
       "    <tr>\n",
       "      <th>0</th>\n",
       "      <td>18</td>\n",
       "      <td>PERSONAL PLUS</td>\n",
       "      <td>5</td>\n",
       "      <td>O</td>\n",
       "      <td>U</td>\n",
       "      <td>M</td>\n",
       "      <td>M</td>\n",
       "      <td>92.0</td>\n",
       "      <td>e. (4.4  5.5MM]</td>\n",
       "    </tr>\n",
       "    <tr>\n",
       "      <th>1</th>\n",
       "      <td>32</td>\n",
       "      <td>PERSONAL PLUS</td>\n",
       "      <td>E</td>\n",
       "      <td>F</td>\n",
       "      <td>T</td>\n",
       "      <td>M</td>\n",
       "      <td>M</td>\n",
       "      <td>80.0</td>\n",
       "      <td>i. (8.7  Inf)</td>\n",
       "    </tr>\n",
       "    <tr>\n",
       "      <th>2</th>\n",
       "      <td>41</td>\n",
       "      <td>EMPRENDEDOR</td>\n",
       "      <td>3</td>\n",
       "      <td>O</td>\n",
       "      <td>I</td>\n",
       "      <td>W</td>\n",
       "      <td>M</td>\n",
       "      <td>90.0</td>\n",
       "      <td>b. (1.1  2.2MM]</td>\n",
       "    </tr>\n",
       "    <tr>\n",
       "      <th>3</th>\n",
       "      <td>47</td>\n",
       "      <td>EMPRENDEDOR</td>\n",
       "      <td>7</td>\n",
       "      <td>NaN</td>\n",
       "      <td>I</td>\n",
       "      <td>I</td>\n",
       "      <td>M</td>\n",
       "      <td>86.0</td>\n",
       "      <td>c. (2.2  3.3MM]</td>\n",
       "    </tr>\n",
       "    <tr>\n",
       "      <th>4</th>\n",
       "      <td>71</td>\n",
       "      <td>PERSONAL</td>\n",
       "      <td>5</td>\n",
       "      <td>O</td>\n",
       "      <td>S</td>\n",
       "      <td>M</td>\n",
       "      <td>M</td>\n",
       "      <td>79.0</td>\n",
       "      <td>e. (4.4  5.5MM]</td>\n",
       "    </tr>\n",
       "  </tbody>\n",
       "</table>\n",
       "</div>"
      ],
      "text/plain": [
       "   id_cliente        seg_str ocupacion tipo_vivienda nivel_academico  \\\n",
       "0          18  PERSONAL PLUS         5             O               U   \n",
       "1          32  PERSONAL PLUS         E             F               T   \n",
       "2          41    EMPRENDEDOR         3             O               I   \n",
       "3          47    EMPRENDEDOR         7           NaN               I   \n",
       "4          71       PERSONAL         5             O               S   \n",
       "\n",
       "  estado_civil genero  edad    ingreso_rango  \n",
       "0            M      M  92.0  e. (4.4  5.5MM]  \n",
       "1            M      M  80.0    i. (8.7  Inf)  \n",
       "2            W      M  90.0  b. (1.1  2.2MM]  \n",
       "3            I      M  86.0  c. (2.2  3.3MM]  \n",
       "4            M      M  79.0  e. (4.4  5.5MM]  "
      ]
     },
     "execution_count": 2,
     "metadata": {},
     "output_type": "execute_result"
    }
   ],
   "source": [
    "info_pagadores=pd.read_csv(\"info_pagadores.csv\",index_col=0)\n",
    "info_pagadores.head()"
   ]
  },
  {
   "cell_type": "code",
   "execution_count": 3,
   "metadata": {},
   "outputs": [
    {
     "data": {
      "text/plain": [
       "id_cliente           int64\n",
       "seg_str             object\n",
       "ocupacion           object\n",
       "tipo_vivienda       object\n",
       "nivel_academico     object\n",
       "estado_civil        object\n",
       "genero              object\n",
       "edad               float64\n",
       "ingreso_rango       object\n",
       "dtype: object"
      ]
     },
     "execution_count": 3,
     "metadata": {},
     "output_type": "execute_result"
    }
   ],
   "source": [
    "info_pagadores.dtypes"
   ]
  },
  {
   "cell_type": "markdown",
   "metadata": {},
   "source": [
    "# Análisis exploratorio de los datos"
   ]
  },
  {
   "cell_type": "code",
   "execution_count": 4,
   "metadata": {},
   "outputs": [
    {
     "name": "stdout",
     "output_type": "stream",
     "text": [
      "col_0           count\n",
      "seg_str              \n",
      "EMPRENDEDOR     34887\n",
      "OTRO              416\n",
      "PERSONAL       231180\n",
      "PERSONAL PLUS   45221\n",
      "PREFERENCIAL    18472\n"
     ]
    },
    {
     "data": {
      "text/plain": [
       "<matplotlib.axes._subplots.AxesSubplot at 0x1fe89ce30f0>"
      ]
     },
     "execution_count": 4,
     "metadata": {},
     "output_type": "execute_result"
    },
    {
     "data": {
      "image/png": "[encoded data removed]",
      "text/plain": [
       "<Figure size 1152x648 with 1 Axes>"
      ]
     },
     "metadata": {
      "needs_background": "light"
     },
     "output_type": "display_data"
    }
   ],
   "source": [
    "print(pd.crosstab(info_pagadores.seg_str.fillna('missing'), columns=\"count\",dropna=False))#.plot(kind=\"bar\")\n",
    "plt.figure(figsize=(16,9))\n",
    "info_pagadores['seg_str'].value_counts().plot(kind=\"bar\")"
   ]
  },
  {
   "cell_type": "code",
   "execution_count": 5,
   "metadata": {},
   "outputs": [
    {
     "name": "stdout",
     "output_type": "stream",
     "text": [
      "col_0       count\n",
      "ocupacion        \n",
      "1          208783\n",
      "2           30841\n",
      "3           31842\n",
      "4            5861\n",
      "5            9917\n",
      "6             259\n",
      "7             323\n",
      "8            6125\n",
      "9            2290\n",
      "E            8980\n",
      "I            1067\n",
      "O            3833\n",
      "P           17713\n",
      "S            1339\n",
      "missing      1003\n"
     ]
    },
    {
     "data": {
      "text/plain": [
       "<matplotlib.axes._subplots.AxesSubplot at 0x1fe846e70b8>"
      ]
     },
     "execution_count": 5,
     "metadata": {},
     "output_type": "execute_result"
    },
    {
     "data": {
      "image/png": "[encoded data removed]",
      "text/plain": [
       "<Figure size 1152x648 with 1 Axes>"
      ]
     },
     "metadata": {
      "needs_background": "light"
     },
     "output_type": "display_data"
    }
   ],
   "source": [
    "print(pd.crosstab(info_pagadores.ocupacion.fillna('missing'), columns=\"count\",dropna=False))#.plot(kind=\"bar\")\n",
    "plt.figure(figsize=(16,9))\n",
    "info_pagadores['ocupacion'].fillna('missing').value_counts().plot(kind=\"bar\")"
   ]
  },
  {
   "cell_type": "code",
   "execution_count": 6,
   "metadata": {},
   "outputs": [
    {
     "name": "stdout",
     "output_type": "stream",
     "text": [
      "col_0           count\n",
      "tipo_vivienda        \n",
      "F               83540\n",
      "I               12111\n",
      "O               44643\n",
      "R               25706\n",
      "missing        164176\n"
     ]
    },
    {
     "data": {
      "text/plain": [
       "<matplotlib.axes._subplots.AxesSubplot at 0x1fe8478f390>"
      ]
     },
     "execution_count": 6,
     "metadata": {},
     "output_type": "execute_result"
    },
    {
     "data": {
      "image/png": "[encoded data removed]",
      "text/plain": [
       "<Figure size 1152x648 with 1 Axes>"
      ]
     },
     "metadata": {
      "needs_background": "light"
     },
     "output_type": "display_data"
    }
   ],
   "source": [
    "print(pd.crosstab(info_pagadores.tipo_vivienda.fillna('missing'), columns=\"count\",dropna=False))#.plot(kind=\"bar\")\n",
    "plt.figure(figsize=(16,9))\n",
    "info_pagadores['tipo_vivienda'].fillna('missing').value_counts().plot(kind=\"bar\")"
   ]
  },
  {
   "cell_type": "code",
   "execution_count": 7,
   "metadata": {},
   "outputs": [
    {
     "name": "stdout",
     "output_type": "stream",
     "text": [
      "col_0             count\n",
      "nivel_academico        \n",
      "E                  8732\n",
      "H                 28977\n",
      "I                 48869\n",
      "N                  3414\n",
      "P                  2828\n",
      "S                 19549\n",
      "T                 44927\n",
      "U                135145\n",
      "missing           37735\n"
     ]
    },
    {
     "data": {
      "text/plain": [
       "<matplotlib.axes._subplots.AxesSubplot at 0x1fe846e7c50>"
      ]
     },
     "execution_count": 7,
     "metadata": {},
     "output_type": "execute_result"
    },
    {
     "data": {
      "image/png": "[encoded data removed]",
      "text/plain": [
       "<Figure size 1152x648 with 1 Axes>"
      ]
     },
     "metadata": {
      "needs_background": "light"
     },
     "output_type": "display_data"
    }
   ],
   "source": [
    "print(pd.crosstab(info_pagadores.nivel_academico.fillna('missing'), columns=\"count\",dropna=False))#.plot(kind=\"bar\")\n",
    "plt.figure(figsize=(16,9))\n",
    "info_pagadores['nivel_academico'].fillna('missing').value_counts().plot(kind=\"bar\")"
   ]
  },
  {
   "cell_type": "code",
   "execution_count": 8,
   "metadata": {},
   "outputs": [
    {
     "name": "stdout",
     "output_type": "stream",
     "text": [
      "col_0          count\n",
      "estado_civil        \n",
      "D              12006\n",
      "F              31776\n",
      "I              25289\n",
      "M              79549\n",
      "O               2076\n",
      "S             174690\n",
      "W               3323\n",
      "missing         1467\n"
     ]
    },
    {
     "data": {
      "text/plain": [
       "<matplotlib.axes._subplots.AxesSubplot at 0x1fe84b1f358>"
      ]
     },
     "execution_count": 8,
     "metadata": {},
     "output_type": "execute_result"
    },
    {
     "data": {
      "image/png": "[encoded data removed]",
      "text/plain": [
       "<Figure size 1152x648 with 1 Axes>"
      ]
     },
     "metadata": {
      "needs_background": "light"
     },
     "output_type": "display_data"
    }
   ],
   "source": [
    "print(pd.crosstab(info_pagadores.estado_civil.fillna('missing'), columns=\"count\",dropna=False))#.plot(kind=\"bar\")\n",
    "plt.figure(figsize=(16,9))\n",
    "info_pagadores['estado_civil'].fillna('missing').value_counts().plot(kind=\"bar\")"
   ]
  },
  {
   "cell_type": "code",
   "execution_count": 9,
   "metadata": {},
   "outputs": [
    {
     "name": "stdout",
     "output_type": "stream",
     "text": [
      "col_0     count\n",
      "genero         \n",
      "F        167893\n",
      "M        162277\n",
      "missing       6\n"
     ]
    },
    {
     "data": {
      "text/plain": [
       "<matplotlib.axes._subplots.AxesSubplot at 0x1fe84dab278>"
      ]
     },
     "execution_count": 9,
     "metadata": {},
     "output_type": "execute_result"
    },
    {
     "data": {
      "image/png": "[encoded data removed]",
      "text/plain": [
       "<Figure size 1152x648 with 1 Axes>"
      ]
     },
     "metadata": {
      "needs_background": "light"
     },
     "output_type": "display_data"
    }
   ],
   "source": [
    "print(pd.crosstab(info_pagadores.genero.fillna('missing'), columns=\"count\",dropna=False))#.plot(kind=\"bar\")\n",
    "plt.figure(figsize=(16,9))\n",
    "info_pagadores['genero'].fillna('missing').value_counts().plot(kind=\"bar\")"
   ]
  },
  {
   "cell_type": "code",
   "execution_count": 10,
   "metadata": {
    "scrolled": false
   },
   "outputs": [
    {
     "data": {
      "text/plain": [
       "<matplotlib.axes._subplots.AxesSubplot at 0x1fe846b6940>"
      ]
     },
     "execution_count": 10,
     "metadata": {},
     "output_type": "execute_result"
    },
    {
     "data": {
      "image/png": "[encoded data removed]",
      "text/plain": [
       "<Figure size 1152x648 with 1 Axes>"
      ]
     },
     "metadata": {
      "needs_background": "light"
     },
     "output_type": "display_data"
    }
   ],
   "source": [
    "plt.figure(figsize=(16,9))\n",
    "info_pagadores['edad'].fillna('missing').value_counts().plot(kind=\"bar\")"
   ]
  },
  {
   "cell_type": "code",
   "execution_count": 11,
   "metadata": {},
   "outputs": [
    {
     "data": {
      "text/plain": [
       "<matplotlib.axes._subplots.AxesSubplot at 0x1fe85702828>"
      ]
     },
     "execution_count": 11,
     "metadata": {},
     "output_type": "execute_result"
    },
    {
     "data": {
      "image/png": "[encoded data removed]",
      "text/plain": [
       "<Figure size 1152x648 with 1 Axes>"
      ]
     },
     "metadata": {
      "needs_background": "light"
     },
     "output_type": "display_data"
    }
   ],
   "source": [
    "plt.figure(figsize=(16,9))\n",
    "info_pagadores.edad.loc[(info_pagadores.edad>5) & (info_pagadores.edad<98)].plot.kde()#(kind=\"hist\")#"
   ]
  },
  {
   "cell_type": "code",
   "execution_count": 12,
   "metadata": {
    "scrolled": false
   },
   "outputs": [
    {
     "data": {
      "text/html": [
       "<div>\n",
       "<style scoped>\n",
       "    .dataframe tbody tr th:only-of-type {\n",
       "        vertical-align: middle;\n",
       "    }\n",
       "\n",
       "    .dataframe tbody tr th {\n",
       "        vertical-align: top;\n",
       "    }\n",
       "\n",
       "    .dataframe thead th {\n",
       "        text-align: right;\n",
       "    }\n",
       "</style>\n",
       "<table border=\"1\" class=\"dataframe\">\n",
       "  <thead>\n",
       "    <tr style=\"text-align: right;\">\n",
       "      <th>col_0</th>\n",
       "      <th>count</th>\n",
       "    </tr>\n",
       "    <tr>\n",
       "      <th>edad</th>\n",
       "      <th></th>\n",
       "    </tr>\n",
       "  </thead>\n",
       "  <tbody>\n",
       "    <tr>\n",
       "      <th>5.0</th>\n",
       "      <td>100</td>\n",
       "    </tr>\n",
       "    <tr>\n",
       "      <th>6.0</th>\n",
       "      <td>127</td>\n",
       "    </tr>\n",
       "    <tr>\n",
       "      <th>7.0</th>\n",
       "      <td>97</td>\n",
       "    </tr>\n",
       "    <tr>\n",
       "      <th>8.0</th>\n",
       "      <td>95</td>\n",
       "    </tr>\n",
       "    <tr>\n",
       "      <th>9.0</th>\n",
       "      <td>105</td>\n",
       "    </tr>\n",
       "    <tr>\n",
       "      <th>10.0</th>\n",
       "      <td>97</td>\n",
       "    </tr>\n",
       "    <tr>\n",
       "      <th>11.0</th>\n",
       "      <td>118</td>\n",
       "    </tr>\n",
       "    <tr>\n",
       "      <th>12.0</th>\n",
       "      <td>96</td>\n",
       "    </tr>\n",
       "    <tr>\n",
       "      <th>13.0</th>\n",
       "      <td>82</td>\n",
       "    </tr>\n",
       "    <tr>\n",
       "      <th>14.0</th>\n",
       "      <td>117</td>\n",
       "    </tr>\n",
       "    <tr>\n",
       "      <th>15.0</th>\n",
       "      <td>114</td>\n",
       "    </tr>\n",
       "    <tr>\n",
       "      <th>16.0</th>\n",
       "      <td>169</td>\n",
       "    </tr>\n",
       "    <tr>\n",
       "      <th>17.0</th>\n",
       "      <td>385</td>\n",
       "    </tr>\n",
       "    <tr>\n",
       "      <th>18.0</th>\n",
       "      <td>886</td>\n",
       "    </tr>\n",
       "    <tr>\n",
       "      <th>19.0</th>\n",
       "      <td>1926</td>\n",
       "    </tr>\n",
       "    <tr>\n",
       "      <th>20.0</th>\n",
       "      <td>3474</td>\n",
       "    </tr>\n",
       "    <tr>\n",
       "      <th>21.0</th>\n",
       "      <td>5215</td>\n",
       "    </tr>\n",
       "    <tr>\n",
       "      <th>22.0</th>\n",
       "      <td>7224</td>\n",
       "    </tr>\n",
       "    <tr>\n",
       "      <th>23.0</th>\n",
       "      <td>9187</td>\n",
       "    </tr>\n",
       "    <tr>\n",
       "      <th>24.0</th>\n",
       "      <td>11119</td>\n",
       "    </tr>\n",
       "    <tr>\n",
       "      <th>25.0</th>\n",
       "      <td>12349</td>\n",
       "    </tr>\n",
       "    <tr>\n",
       "      <th>26.0</th>\n",
       "      <td>13136</td>\n",
       "    </tr>\n",
       "    <tr>\n",
       "      <th>27.0</th>\n",
       "      <td>13829</td>\n",
       "    </tr>\n",
       "    <tr>\n",
       "      <th>28.0</th>\n",
       "      <td>13924</td>\n",
       "    </tr>\n",
       "    <tr>\n",
       "      <th>29.0</th>\n",
       "      <td>14001</td>\n",
       "    </tr>\n",
       "    <tr>\n",
       "      <th>30.0</th>\n",
       "      <td>13142</td>\n",
       "    </tr>\n",
       "    <tr>\n",
       "      <th>31.0</th>\n",
       "      <td>12778</td>\n",
       "    </tr>\n",
       "    <tr>\n",
       "      <th>32.0</th>\n",
       "      <td>12632</td>\n",
       "    </tr>\n",
       "    <tr>\n",
       "      <th>33.0</th>\n",
       "      <td>12307</td>\n",
       "    </tr>\n",
       "    <tr>\n",
       "      <th>34.0</th>\n",
       "      <td>11546</td>\n",
       "    </tr>\n",
       "    <tr>\n",
       "      <th>...</th>\n",
       "      <td>...</td>\n",
       "    </tr>\n",
       "    <tr>\n",
       "      <th>68.0</th>\n",
       "      <td>1003</td>\n",
       "    </tr>\n",
       "    <tr>\n",
       "      <th>69.0</th>\n",
       "      <td>799</td>\n",
       "    </tr>\n",
       "    <tr>\n",
       "      <th>70.0</th>\n",
       "      <td>741</td>\n",
       "    </tr>\n",
       "    <tr>\n",
       "      <th>71.0</th>\n",
       "      <td>634</td>\n",
       "    </tr>\n",
       "    <tr>\n",
       "      <th>72.0</th>\n",
       "      <td>515</td>\n",
       "    </tr>\n",
       "    <tr>\n",
       "      <th>73.0</th>\n",
       "      <td>467</td>\n",
       "    </tr>\n",
       "    <tr>\n",
       "      <th>74.0</th>\n",
       "      <td>390</td>\n",
       "    </tr>\n",
       "    <tr>\n",
       "      <th>75.0</th>\n",
       "      <td>305</td>\n",
       "    </tr>\n",
       "    <tr>\n",
       "      <th>76.0</th>\n",
       "      <td>290</td>\n",
       "    </tr>\n",
       "    <tr>\n",
       "      <th>77.0</th>\n",
       "      <td>257</td>\n",
       "    </tr>\n",
       "    <tr>\n",
       "      <th>78.0</th>\n",
       "      <td>221</td>\n",
       "    </tr>\n",
       "    <tr>\n",
       "      <th>79.0</th>\n",
       "      <td>209</td>\n",
       "    </tr>\n",
       "    <tr>\n",
       "      <th>80.0</th>\n",
       "      <td>181</td>\n",
       "    </tr>\n",
       "    <tr>\n",
       "      <th>81.0</th>\n",
       "      <td>160</td>\n",
       "    </tr>\n",
       "    <tr>\n",
       "      <th>82.0</th>\n",
       "      <td>144</td>\n",
       "    </tr>\n",
       "    <tr>\n",
       "      <th>83.0</th>\n",
       "      <td>108</td>\n",
       "    </tr>\n",
       "    <tr>\n",
       "      <th>84.0</th>\n",
       "      <td>100</td>\n",
       "    </tr>\n",
       "    <tr>\n",
       "      <th>85.0</th>\n",
       "      <td>85</td>\n",
       "    </tr>\n",
       "    <tr>\n",
       "      <th>86.0</th>\n",
       "      <td>87</td>\n",
       "    </tr>\n",
       "    <tr>\n",
       "      <th>87.0</th>\n",
       "      <td>64</td>\n",
       "    </tr>\n",
       "    <tr>\n",
       "      <th>88.0</th>\n",
       "      <td>67</td>\n",
       "    </tr>\n",
       "    <tr>\n",
       "      <th>89.0</th>\n",
       "      <td>53</td>\n",
       "    </tr>\n",
       "    <tr>\n",
       "      <th>90.0</th>\n",
       "      <td>46</td>\n",
       "    </tr>\n",
       "    <tr>\n",
       "      <th>91.0</th>\n",
       "      <td>34</td>\n",
       "    </tr>\n",
       "    <tr>\n",
       "      <th>92.0</th>\n",
       "      <td>22</td>\n",
       "    </tr>\n",
       "    <tr>\n",
       "      <th>93.0</th>\n",
       "      <td>15</td>\n",
       "    </tr>\n",
       "    <tr>\n",
       "      <th>94.0</th>\n",
       "      <td>7</td>\n",
       "    </tr>\n",
       "    <tr>\n",
       "      <th>95.0</th>\n",
       "      <td>12</td>\n",
       "    </tr>\n",
       "    <tr>\n",
       "      <th>96.0</th>\n",
       "      <td>6</td>\n",
       "    </tr>\n",
       "    <tr>\n",
       "      <th>97.0</th>\n",
       "      <td>3</td>\n",
       "    </tr>\n",
       "  </tbody>\n",
       "</table>\n",
       "<p>93 rows × 1 columns</p>\n",
       "</div>"
      ],
      "text/plain": [
       "col_0  count\n",
       "edad        \n",
       "5.0      100\n",
       "6.0      127\n",
       "7.0       97\n",
       "8.0       95\n",
       "9.0      105\n",
       "10.0      97\n",
       "11.0     118\n",
       "12.0      96\n",
       "13.0      82\n",
       "14.0     117\n",
       "15.0     114\n",
       "16.0     169\n",
       "17.0     385\n",
       "18.0     886\n",
       "19.0    1926\n",
       "20.0    3474\n",
       "21.0    5215\n",
       "22.0    7224\n",
       "23.0    9187\n",
       "24.0   11119\n",
       "25.0   12349\n",
       "26.0   13136\n",
       "27.0   13829\n",
       "28.0   13924\n",
       "29.0   14001\n",
       "30.0   13142\n",
       "31.0   12778\n",
       "32.0   12632\n",
       "33.0   12307\n",
       "34.0   11546\n",
       "...      ...\n",
       "68.0    1003\n",
       "69.0     799\n",
       "70.0     741\n",
       "71.0     634\n",
       "72.0     515\n",
       "73.0     467\n",
       "74.0     390\n",
       "75.0     305\n",
       "76.0     290\n",
       "77.0     257\n",
       "78.0     221\n",
       "79.0     209\n",
       "80.0     181\n",
       "81.0     160\n",
       "82.0     144\n",
       "83.0     108\n",
       "84.0     100\n",
       "85.0      85\n",
       "86.0      87\n",
       "87.0      64\n",
       "88.0      67\n",
       "89.0      53\n",
       "90.0      46\n",
       "91.0      34\n",
       "92.0      22\n",
       "93.0      15\n",
       "94.0       7\n",
       "95.0      12\n",
       "96.0       6\n",
       "97.0       3\n",
       "\n",
       "[93 rows x 1 columns]"
      ]
     },
     "execution_count": 12,
     "metadata": {},
     "output_type": "execute_result"
    },
    {
     "data": {
      "image/png": "[encoded data removed]",
      "text/plain": [
       "<Figure size 1152x648 with 1 Axes>"
      ]
     },
     "metadata": {
      "needs_background": "light"
     },
     "output_type": "display_data"
    }
   ],
   "source": [
    "pd.crosstab(info_pagadores.edad.fillna('missing'), columns=\"count\").plot(kind=\"bar\",figsize=(16,9))\n",
    "pd.crosstab(info_pagadores.edad.fillna('missing'), columns=\"count\")"
   ]
  },
  {
   "cell_type": "code",
   "execution_count": 13,
   "metadata": {},
   "outputs": [
    {
     "data": {
      "text/plain": [
       "count    330176.000000\n",
       "mean         36.776307\n",
       "std          12.277090\n",
       "min           5.000000\n",
       "25%          28.000000\n",
       "50%          34.000000\n",
       "75%          43.000000\n",
       "max          97.000000\n",
       "Name: edad, dtype: float64"
      ]
     },
     "execution_count": 13,
     "metadata": {},
     "output_type": "execute_result"
    }
   ],
   "source": [
    "info_pagadores.edad.describe()"
   ]
  },
  {
   "cell_type": "code",
   "execution_count": 14,
   "metadata": {},
   "outputs": [
    {
     "name": "stdout",
     "output_type": "stream",
     "text": [
      "col_0             count\n",
      "ingreso_rango          \n",
      "a. (0  1.1MM]     43301\n",
      "b. (1.1  2.2MM]  103827\n",
      "c. (2.2  3.3MM]   54338\n",
      "d. (3.3  4.4MM]   34551\n",
      "e. (4.4  5.5MM]   19880\n",
      "f. (5.5  6.6MM]   13923\n",
      "g. (6.6  7.6MM]   10423\n",
      "h. (7.6  8.7MM]    7602\n",
      "i. (8.7  Inf)     35677\n",
      "missing            6654\n"
     ]
    },
    {
     "data": {
      "text/plain": [
       "<matplotlib.axes._subplots.AxesSubplot at 0x1fe86133160>"
      ]
     },
     "execution_count": 14,
     "metadata": {},
     "output_type": "execute_result"
    },
    {
     "data": {
      "image/png": "[encoded data removed]",
      "text/plain": [
       "<Figure size 1152x648 with 1 Axes>"
      ]
     },
     "metadata": {
      "needs_background": "light"
     },
     "output_type": "display_data"
    }
   ],
   "source": [
    "print(pd.crosstab(info_pagadores.ingreso_rango.fillna('missing'), columns=\"count\",dropna=False))\n",
    "pd.crosstab(info_pagadores.ingreso_rango.fillna('missing'), columns=\"count\",dropna=False).plot(kind=\"bar\",figsize=(16,9))\n",
    "# info_pagadores['ingreso_rango'].value_counts().plot(kind=\"bar\")"
   ]
  },
  {
   "cell_type": "code",
   "execution_count": 15,
   "metadata": {},
   "outputs": [
    {
     "data": {
      "text/plain": [
       "<matplotlib.axes._subplots.AxesSubplot at 0x1fe866db208>"
      ]
     },
     "execution_count": 15,
     "metadata": {},
     "output_type": "execute_result"
    },
    {
     "data": {
      "image/png": "[encoded data removed]",
      "text/plain": [
       "<Figure size 1080x1080 with 1 Axes>"
      ]
     },
     "metadata": {
      "needs_background": "light"
     },
     "output_type": "display_data"
    }
   ],
   "source": [
    "plt.figure(figsize=(15,15))\n",
    "sns.heatmap(info_pagadores.isnull(),yticklabels=False,cbar=False,cmap='inferno')"
   ]
  }
 ],
 "metadata": {
  "kernelspec": {
   "display_name": "Python 3",
   "language": "python",
   "name": "python3"
  },
  "language_info": {
   "codemirror_mode": {
    "name": "ipython",
    "version": 3
   },
   "file_extension": ".py",
   "mimetype": "text/x-python",
   "name": "python",
   "nbconvert_exporter": "python",
   "pygments_lexer": "ipython3",
   "version": "3.7.0"
  }
 },
 "nbformat": 4,
 "nbformat_minor": 2
}
