{
 "cells": [
  {
   "cell_type": "markdown",
   "metadata": {},
   "source": [
    "# Dataton BC 2018\n",
    "\n",
    "*Dirección de Capacidades Analíticas y Gobierno de Información, Grupo Bancolombia*<br>\n",
    "Esta versión: *2018-10-17*<br>\n",
    "Documentación tablas\n",
    "\n",
    "## Naturaleza de los datos\n",
    "\n",
    "Los datos entregados en este reto corresponden a transacciones realizadas por clientes persona del banco vía [PSE](https://www.pse.com.co/inicio). Estas transacciones, a diferencia de las transacciones realizadas vía POS, no cuentan con un código [MCC](https://en.wikipedia.org/wiki/Merchant_category_code) atado a la transacción, que permite conocer la categoría de comercio a la que pertence el establecimiento de comercio donde se realiza la transacción. Adicionalmente, muchas de estas transferencias por PSE corresponden a transferencias de pagos de servicios públicos, seguros, colegios, arrendamientos, y otros gastos que pueden ser denominados como gastos grandes. En el marco de un sistema de gestión de finanzas personales, poder categorizar adecuadamente estas transacciones que se realizan por PSE es de suma importancia para contar con una foto completa de la actividad de gastos de los clientes. Para este reto, los equipos participantes tendrán acceso a una muestra de transacciones PSE que corresponden a algo más de 300 mil clientes (persona), seleccionados de manera aleatoria. La tabla de transacciones cuenta con 11.8 millones de registros (uno para cada transacción), realizados entre septiembre de 2016 y octubre de 2018.\n",
    "\n",
    "**NOTA** Los datos han pasado por un proceso relativamente simple de curación, pero se han dejado algunos ruidos en la calidad de éstos con el fin de que los equipos también lleven a cabo un proceso de inspección y limpieza.\n",
    "\n",
    "## Tablas\n",
    "\n",
    "### dt_trxpse_personas_2016_2018_muestra_adjt\n",
    "\n",
    "* Tabla con transacciones PSE durante 2016-09 a 2018-10 (muestra aleatoria de clientes persona -- 340 mil clientes --)\n",
    "\n",
    "| **Campo**     | **Descripción**                    | **Tipo**       |\n",
    "| ------------- |:----------------------------------:|:--------------:|\n",
    "| id_trn_ach    | identificador único de transacción | string         |\n",
    "| id_cliente    | id. único de cliente (pagador)     | bigint         |\n",
    "| fecha         | fecha de transacción               | decimal(8,0)   |\n",
    "| hora          | hora de transacción (HHMMSS)       | decimal(6,0)   |\n",
    "| valor_trx     | valor ($) transacción              | double         |\n",
    "| ref1          | texto libre referencia 1           | string         |\n",
    "| ref2          | texto libre referencia 2           | string         |\n",
    "| ref3          | texto libre referencia 3           | string         |\n",
    "| sector        | sector eco. receptor               | varchar(24)    |\n",
    "| subsector     | subsector eco. receptor            | varchar(62)    |\n",
    "| descripcion   | descripción subsector receptor     | varchar(24)    |\n",
    "\n",
    "## NOTA IMPORTANTE\n",
    "\n",
    "Recuerden que esta información aún contiene un elevado nivel de ruido. No solo no ha sido depurada de posibles datos atípicos (transacciones de valor muy elevado) fruto de errores o transacciones fallidas, sino que también cuenta con el ruido asociado al campo de referencia, donde se involucra el factor humano, ya que son campos de texto libre que pueden contener cualquier tipo de información.\n",
    "\n",
    "Por seguridad, hemos eliminado cualquier número presente en dichos campos de referencia (cédulas, nits, montos, contratos, etc.).\n"
   ]
  },
  {
   "cell_type": "code",
   "execution_count": 1,
   "metadata": {},
   "outputs": [],
   "source": [
    "import pandas as pd\n",
    "import numpy as np\n",
    "import seaborn as sns\n",
    "import matplotlib\n",
    "import matplotlib.pyplot as plt\n",
    "import random\n",
    "import time\n",
    "%matplotlib inline\n",
    "import matplotlib.animation as animation\n",
    "import csv\n",
    "matplotlib.style.use('seaborn')\n",
    "\n",
    "from sklearn import preprocessing\n",
    "\n",
    "from sklearn.feature_extraction.text import CountVectorizer\n",
    "from sklearn.feature_extraction.text import TfidfTransformer\n",
    "from sklearn.feature_extraction.text import TfidfVectorizer\n",
    "from sklearn.decomposition import PCA\n",
    "from sklearn import manifold\n",
    "from sklearn.cluster import AgglomerativeClustering\n",
    "from scipy.cluster import hierarchy\n",
    "from sklearn.cluster import DBSCAN\n",
    "from sklearn.metrics.pairwise import pairwise_distances\n",
    "# from wordcloud import WordCloud\n",
    "\n",
    "from mpl_toolkits.mplot3d import Axes3D"
   ]
  },
  {
   "cell_type": "markdown",
   "metadata": {},
   "source": [
    "## Ideas\n",
    "* Identificar outliers respecto a transacciones\n",
    "\n",
    "Mirar una transacción respecto al tiempo y a la persona que la realiza\n",
    "compararla con otras personas cercanas y compararla con otras transacciones similares y también las cercanas en el tiempo "
   ]
  },
  {
   "cell_type": "markdown",
   "metadata": {},
   "source": [
    "# PreProcesamiento de los datos\n",
    "Carga de los archivos y exploración de las variables\n"
   ]
  },
  {
   "cell_type": "markdown",
   "metadata": {},
   "source": [
    "# Carga y procesamiento de transacciones \n",
    "\n",
    "29.607567469278973 minutos de procesamiento | 11818381 Registros procesados | 331 Excepciones | 47832 Lineas con error de longitud"
   ]
  },
  {
   "cell_type": "code",
   "execution_count": 2,
   "metadata": {},
   "outputs": [],
   "source": [
    "transac_colnames=[\"id_trn_ach\",\"id_cliente\",\"fec_hor\",\"valor_trx\",\"ref\",\"sector\",\"subsector\",\"descripcion\"]"
   ]
  },
  {
   "cell_type": "code",
   "execution_count": 3,
   "metadata": {},
   "outputs": [
    {
     "name": "stdout",
     "output_type": "stream",
     "text": [
      "30.078571967283885 minutos de procesamiento |\n",
      " 11839512 Registros procesados |\n",
      " 26701 Excepciones |\n",
      " 21131 Lineas con 13 campos de longitud |\n",
      " 26701 Líneas con valores diferentes a 12 o 13|\n",
      " 331 Excepciones |\n",
      "\n"
     ]
    }
   ],
   "source": [
    "err_characters=[]\n",
    "inic_loop=time.time()\n",
    "\n",
    "ln_count=0\n",
    "counter=0\n",
    "err_dif_11_count=0\n",
    "\n",
    "err_lin_count=0\n",
    "\n",
    "camps_12_count=0\n",
    "camps_12_list=[]\n",
    "err_lin_list=[]\n",
    "\n",
    "except_count=0\n",
    "except_list=[]\n",
    "\n",
    "\n",
    "with open(\"dt_trxpse_personas_2016_2018_muestra_adjt.csv\",'r',encoding=\"utf-8\") as dest_f:\n",
    "    data_iter = csv.reader(dest_f,delimiter = \",\",quoting=3)\n",
    "    for data in data_iter:\n",
    "        ln_count+=1\n",
    "#         if counter<20e6: #20 millones\n",
    "        try:\n",
    "            if len(data)==11:\n",
    "                data = [w.replace('\\\\N', '') for w in data]\n",
    "                data = [w.replace(\"null\", '') for w in data]\n",
    "                data = [w.replace(\";\", '') for w in data]\n",
    "                with open('transacs_out.csv', 'a', newline='') as file_out:\n",
    "                    line=[data[0],\n",
    "                          data[1],\n",
    "                          data[2]+data[3],\n",
    "                          data[4],\n",
    "                          data[5]+\" \"+data[6]+\" \"+data[7],\n",
    "                          data[8],\n",
    "                          data[9],\n",
    "                          data[10]]\n",
    "                    writer = csv.writer(file_out)\n",
    "                    writer.writerow(line)\n",
    "                counter+=1\n",
    "            elif len(data)==12:\n",
    "                data = [w.replace('\\\\N', '') for w in data]\n",
    "                data = [w.replace(\"null\", '') for w in data]\n",
    "                data = [w.replace(\";\", '') for w in data]\n",
    "                with open('transacs_out.csv', 'a', newline='') as file_out:\n",
    "                    line=[data[0],\n",
    "                          data[1],\n",
    "                          data[2]+data[3],\n",
    "                          data[4],\n",
    "                          data[5]+\" \"+data[6]+\" \"+data[7],\n",
    "                          data[8],\n",
    "                          data[9],\n",
    "                          data[10]+\" \"+data[11]]\n",
    "                    writer = csv.writer(file_out)\n",
    "                    writer.writerow(line)\n",
    "                camps_12_list.append(counter)#data[0])\n",
    "                counter+=1\n",
    "            else:\n",
    "                err_lin_count+=1\n",
    "                err_lin_list.append(ln_count)\n",
    "        except:\n",
    "            except_count+=1\n",
    "            except_list.append(ln_count)\n",
    "            continue\n",
    "#         else:\n",
    "#             break\n",
    "\n",
    "end_loop=time.time()\n",
    "\n",
    "print((end_loop-inic_loop)/60,\"minutos de procesamiento |\\n\",\n",
    "      counter,\"Registros procesados |\\n\",\n",
    "      err_lin_count,\"Excepciones |\\n\",\n",
    "      len(camps_12_list), \"Lineas con 13 campos de longitud |\\n\",\n",
    "      err_lin_count, \"Líneas con valores diferentes a 12 o 13|\\n\",\n",
    "      except_count,\"Excepciones |\\n\")"
   ]
  },
  {
   "cell_type": "markdown",
   "metadata": {},
   "source": [
    "Este loop hace 2 validaciones:\n",
    "\n",
    "* Si hay 12 dimensiones para cada registro:\n",
    "    * une los valores de fecha y hora en uno solo\n",
    "    * Deja un solo campo de referencia de las 3 referencias fusionadas\n",
    "    \n",
    "    \n",
    "* Si hay 13 dimensiones para cada registro(se hizo necesario incluir una excepción al procesamiento): \n",
    "    * une los valores de fecha y hora en uno solo\n",
    "    * Deja un solo campo de referencia de las 3 referencias fusionadas\n",
    "    * Se encontró una coma en el descriptor de ciertas transacciones\n",
    "        * Sector: SERVICIOS NO FINANCIEROS\n",
    "        * Subsector: /SERVICIOS A EMPRESAS\n",
    "        * Descripción: **Procesamiento de datos, alojamiento (hosting) y actividades relacionadas**\n",
    "          \n",
    "          En vista de esto, se unieron los dos últimos valores del registro unificando las columnas\n",
    "\n",
    "Los saltos de lineas dentro de los descriptores producen saltos en los registros, separándolos. Estas líneas se omitieron\n",
    "\n"
   ]
  },
  {
   "cell_type": "markdown",
   "metadata": {},
   "source": [
    "# Cargar pandas procesado"
   ]
  },
  {
   "cell_type": "code",
   "execution_count": 4,
   "metadata": {},
   "outputs": [],
   "source": [
    "transac_colnames=[\"id_trn_ach\",\"id_cliente\",\"fec_hor\",\"valor_trx\",\"ref\",\"sector\",\"subsector\",\"descripcion\"]\n",
    "transacs_tot=pd.read_csv(\"transacs_out.csv\",header=None,names=transac_colnames,encoding = \"latin1\")#[\"id_trn_ach\",\"id_cliente\",\"fec_hor\", \"valor_trx\"])"
   ]
  },
  {
   "cell_type": "code",
   "execution_count": 5,
   "metadata": {},
   "outputs": [],
   "source": [
    "transacs_tot.fec_hor=pd.to_datetime(transacs_tot.fec_hor,format=\"%Y%m%d%H%M%S\", errors='coerce')"
   ]
  },
  {
   "cell_type": "code",
   "execution_count": 6,
   "metadata": {
    "scrolled": false
   },
   "outputs": [
    {
     "name": "stdout",
     "output_type": "stream",
     "text": [
      "(11839512, 8)\n",
      "id_trn_ach              int64\n",
      "id_cliente              int64\n",
      "fec_hor        datetime64[ns]\n",
      "valor_trx             float64\n",
      "ref                    object\n",
      "sector                 object\n",
      "subsector              object\n",
      "descripcion            object\n",
      "dtype: object\n"
     ]
    },
    {
     "data": {
      "text/html": [
       "<div>\n",
       "<style scoped>\n",
       "    .dataframe tbody tr th:only-of-type {\n",
       "        vertical-align: middle;\n",
       "    }\n",
       "\n",
       "    .dataframe tbody tr th {\n",
       "        vertical-align: top;\n",
       "    }\n",
       "\n",
       "    .dataframe thead th {\n",
       "        text-align: right;\n",
       "    }\n",
       "</style>\n",
       "<table border=\"1\" class=\"dataframe\">\n",
       "  <thead>\n",
       "    <tr style=\"text-align: right;\">\n",
       "      <th></th>\n",
       "      <th>id_trn_ach</th>\n",
       "      <th>id_cliente</th>\n",
       "      <th>fec_hor</th>\n",
       "      <th>valor_trx</th>\n",
       "      <th>ref</th>\n",
       "      <th>sector</th>\n",
       "      <th>subsector</th>\n",
       "      <th>descripcion</th>\n",
       "    </tr>\n",
       "  </thead>\n",
       "  <tbody>\n",
       "    <tr>\n",
       "      <th>0</th>\n",
       "      <td>230435642</td>\n",
       "      <td>3</td>\n",
       "      <td>2016-12-07 11:34:51</td>\n",
       "      <td>2122392.51</td>\n",
       "      <td>CC</td>\n",
       "      <td>NaN</td>\n",
       "      <td>NaN</td>\n",
       "      <td>NaN</td>\n",
       "    </tr>\n",
       "    <tr>\n",
       "      <th>1</th>\n",
       "      <td>222356110</td>\n",
       "      <td>10</td>\n",
       "      <td>2016-10-16 03:42:04</td>\n",
       "      <td>148438.37</td>\n",
       "      <td>Referencia:  Contrato:  Valor: CC</td>\n",
       "      <td>NaN</td>\n",
       "      <td>NaN</td>\n",
       "      <td>NaN</td>\n",
       "    </tr>\n",
       "    <tr>\n",
       "      <th>2</th>\n",
       "      <td>309137749</td>\n",
       "      <td>10</td>\n",
       "      <td>2018-01-20 19:50:42</td>\n",
       "      <td>94025.19</td>\n",
       "      <td>CC</td>\n",
       "      <td>NaN</td>\n",
       "      <td>NaN</td>\n",
       "      <td>NaN</td>\n",
       "    </tr>\n",
       "    <tr>\n",
       "      <th>3</th>\n",
       "      <td>324614737</td>\n",
       "      <td>10</td>\n",
       "      <td>2018-03-26 19:21:46</td>\n",
       "      <td>94430.07</td>\n",
       "      <td>CC</td>\n",
       "      <td>NaN</td>\n",
       "      <td>NaN</td>\n",
       "      <td>NaN</td>\n",
       "    </tr>\n",
       "    <tr>\n",
       "      <th>4</th>\n",
       "      <td>235344690</td>\n",
       "      <td>18</td>\n",
       "      <td>2017-01-06 20:13:17</td>\n",
       "      <td>670645.57</td>\n",
       "      <td>MEDICINA PREPAGADA COLSANITAS CE</td>\n",
       "      <td>NaN</td>\n",
       "      <td>NaN</td>\n",
       "      <td>NaN</td>\n",
       "    </tr>\n",
       "    <tr>\n",
       "      <th>5</th>\n",
       "      <td>320049316</td>\n",
       "      <td>18</td>\n",
       "      <td>2018-03-07 14:35:13</td>\n",
       "      <td>706933.70</td>\n",
       "      <td>RECAUDO COLSANITAS CC</td>\n",
       "      <td>NaN</td>\n",
       "      <td>NaN</td>\n",
       "      <td>NaN</td>\n",
       "    </tr>\n",
       "    <tr>\n",
       "      <th>6</th>\n",
       "      <td>230519178</td>\n",
       "      <td>19</td>\n",
       "      <td>2016-12-07 15:58:40</td>\n",
       "      <td>306773.79</td>\n",
       "      <td>CC</td>\n",
       "      <td>NaN</td>\n",
       "      <td>NaN</td>\n",
       "      <td>NaN</td>\n",
       "    </tr>\n",
       "    <tr>\n",
       "      <th>7</th>\n",
       "      <td>241307506</td>\n",
       "      <td>19</td>\n",
       "      <td>2017-02-10 14:28:09</td>\n",
       "      <td>701067.98</td>\n",
       "      <td>Pago de la Planilla Cesantias CEDULA DE CIUDAD...</td>\n",
       "      <td>SERVICIOS FINANCIEROS</td>\n",
       "      <td>OTROS SERVICIOS FINANCIEROS</td>\n",
       "      <td>Otras actividades auxiliares de las actividade...</td>\n",
       "    </tr>\n",
       "    <tr>\n",
       "      <th>8</th>\n",
       "      <td>316193109</td>\n",
       "      <td>24</td>\n",
       "      <td>2018-02-20 15:31:48</td>\n",
       "      <td>767571.01</td>\n",
       "      <td>CC</td>\n",
       "      <td>NaN</td>\n",
       "      <td>NaN</td>\n",
       "      <td>NaN</td>\n",
       "    </tr>\n",
       "    <tr>\n",
       "      <th>9</th>\n",
       "      <td>282076350</td>\n",
       "      <td>26</td>\n",
       "      <td>2017-09-14 07:00:26</td>\n",
       "      <td>100277.45</td>\n",
       "      <td>Pago de la factura # CONJUNTO RESIDENCIAL PIET...</td>\n",
       "      <td>NaN</td>\n",
       "      <td>NaN</td>\n",
       "      <td>NaN</td>\n",
       "    </tr>\n",
       "    <tr>\n",
       "      <th>10</th>\n",
       "      <td>300800637</td>\n",
       "      <td>26</td>\n",
       "      <td>2017-12-12 15:21:15</td>\n",
       "      <td>165877.09</td>\n",
       "      <td>Pago de la factura # CONJUNTO RESIDENCIAL PIET...</td>\n",
       "      <td>NaN</td>\n",
       "      <td>NaN</td>\n",
       "      <td>NaN</td>\n",
       "    </tr>\n",
       "    <tr>\n",
       "      <th>11</th>\n",
       "      <td>239292415</td>\n",
       "      <td>28</td>\n",
       "      <td>2017-02-01 07:19:04</td>\n",
       "      <td>776525.07</td>\n",
       "      <td>Pago de saldo plan familiar CE</td>\n",
       "      <td>NaN</td>\n",
       "      <td>NaN</td>\n",
       "      <td>NaN</td>\n",
       "    </tr>\n",
       "    <tr>\n",
       "      <th>12</th>\n",
       "      <td>244472692</td>\n",
       "      <td>28</td>\n",
       "      <td>2017-03-01 08:05:15</td>\n",
       "      <td>787506.25</td>\n",
       "      <td>Pago de saldo plan familiar CE</td>\n",
       "      <td>NaN</td>\n",
       "      <td>NaN</td>\n",
       "      <td>NaN</td>\n",
       "    </tr>\n",
       "    <tr>\n",
       "      <th>13</th>\n",
       "      <td>357947598</td>\n",
       "      <td>28</td>\n",
       "      <td>2018-08-03 09:36:42</td>\n",
       "      <td>22985.41</td>\n",
       "      <td></td>\n",
       "      <td>NaN</td>\n",
       "      <td>NaN</td>\n",
       "      <td>NaN</td>\n",
       "    </tr>\n",
       "    <tr>\n",
       "      <th>14</th>\n",
       "      <td>271391421</td>\n",
       "      <td>29</td>\n",
       "      <td>2017-07-21 10:51:21</td>\n",
       "      <td>4395.73</td>\n",
       "      <td>CC</td>\n",
       "      <td>NaN</td>\n",
       "      <td>NaN</td>\n",
       "      <td>NaN</td>\n",
       "    </tr>\n",
       "    <tr>\n",
       "      <th>15</th>\n",
       "      <td>350884991</td>\n",
       "      <td>29</td>\n",
       "      <td>2018-07-07 10:14:52</td>\n",
       "      <td>798686.82</td>\n",
       "      <td>CC</td>\n",
       "      <td>NaN</td>\n",
       "      <td>NaN</td>\n",
       "      <td>NaN</td>\n",
       "    </tr>\n",
       "    <tr>\n",
       "      <th>16</th>\n",
       "      <td>359125394</td>\n",
       "      <td>35</td>\n",
       "      <td>2018-08-08 12:29:53</td>\n",
       "      <td>246964.14</td>\n",
       "      <td>CPV</td>\n",
       "      <td>SERVICIOS FINANCIEROS</td>\n",
       "      <td>BANCOS</td>\n",
       "      <td>Bancos comerciales</td>\n",
       "    </tr>\n",
       "    <tr>\n",
       "      <th>17</th>\n",
       "      <td>227400411</td>\n",
       "      <td>40</td>\n",
       "      <td>2016-11-18 12:57:44</td>\n",
       "      <td>111960.09</td>\n",
       "      <td>Pago por iRecaudo de Claro Soluciones Móviles</td>\n",
       "      <td>NaN</td>\n",
       "      <td>NaN</td>\n",
       "      <td>NaN</td>\n",
       "    </tr>\n",
       "    <tr>\n",
       "      <th>18</th>\n",
       "      <td>285847659</td>\n",
       "      <td>40</td>\n",
       "      <td>2017-10-03 15:17:03</td>\n",
       "      <td>192491.73</td>\n",
       "      <td>Pago Factura Asociado BancoomevaPFA</td>\n",
       "      <td>SERVICIOS FINANCIEROS</td>\n",
       "      <td>BANCOS</td>\n",
       "      <td>Bancos comerciales</td>\n",
       "    </tr>\n",
       "    <tr>\n",
       "      <th>19</th>\n",
       "      <td>299603150</td>\n",
       "      <td>42</td>\n",
       "      <td>2017-12-06 19:20:09</td>\n",
       "      <td>297348.56</td>\n",
       "      <td>CC</td>\n",
       "      <td>NaN</td>\n",
       "      <td>NaN</td>\n",
       "      <td>NaN</td>\n",
       "    </tr>\n",
       "  </tbody>\n",
       "</table>\n",
       "</div>"
      ],
      "text/plain": [
       "    id_trn_ach  id_cliente             fec_hor   valor_trx  \\\n",
       "0    230435642           3 2016-12-07 11:34:51  2122392.51   \n",
       "1    222356110          10 2016-10-16 03:42:04   148438.37   \n",
       "2    309137749          10 2018-01-20 19:50:42    94025.19   \n",
       "3    324614737          10 2018-03-26 19:21:46    94430.07   \n",
       "4    235344690          18 2017-01-06 20:13:17   670645.57   \n",
       "5    320049316          18 2018-03-07 14:35:13   706933.70   \n",
       "6    230519178          19 2016-12-07 15:58:40   306773.79   \n",
       "7    241307506          19 2017-02-10 14:28:09   701067.98   \n",
       "8    316193109          24 2018-02-20 15:31:48   767571.01   \n",
       "9    282076350          26 2017-09-14 07:00:26   100277.45   \n",
       "10   300800637          26 2017-12-12 15:21:15   165877.09   \n",
       "11   239292415          28 2017-02-01 07:19:04   776525.07   \n",
       "12   244472692          28 2017-03-01 08:05:15   787506.25   \n",
       "13   357947598          28 2018-08-03 09:36:42    22985.41   \n",
       "14   271391421          29 2017-07-21 10:51:21     4395.73   \n",
       "15   350884991          29 2018-07-07 10:14:52   798686.82   \n",
       "16   359125394          35 2018-08-08 12:29:53   246964.14   \n",
       "17   227400411          40 2016-11-18 12:57:44   111960.09   \n",
       "18   285847659          40 2017-10-03 15:17:03   192491.73   \n",
       "19   299603150          42 2017-12-06 19:20:09   297348.56   \n",
       "\n",
       "                                                  ref                 sector  \\\n",
       "0                                                CC                      NaN   \n",
       "1                  Referencia:  Contrato:  Valor: CC                     NaN   \n",
       "2                                                CC                      NaN   \n",
       "3                                                CC                      NaN   \n",
       "4                   MEDICINA PREPAGADA COLSANITAS CE                     NaN   \n",
       "5                              RECAUDO COLSANITAS CC                     NaN   \n",
       "6                                                CC                      NaN   \n",
       "7   Pago de la Planilla Cesantias CEDULA DE CIUDAD...  SERVICIOS FINANCIEROS   \n",
       "8                                                CC                      NaN   \n",
       "9   Pago de la factura # CONJUNTO RESIDENCIAL PIET...                    NaN   \n",
       "10  Pago de la factura # CONJUNTO RESIDENCIAL PIET...                    NaN   \n",
       "11                    Pago de saldo plan familiar CE                     NaN   \n",
       "12                    Pago de saldo plan familiar CE                     NaN   \n",
       "13                                                                       NaN   \n",
       "14                                               CC                      NaN   \n",
       "15                                               CC                      NaN   \n",
       "16                                              CPV    SERVICIOS FINANCIEROS   \n",
       "17    Pago por iRecaudo de Claro Soluciones Móviles                      NaN   \n",
       "18               Pago Factura Asociado BancoomevaPFA   SERVICIOS FINANCIEROS   \n",
       "19                                               CC                      NaN   \n",
       "\n",
       "                      subsector  \\\n",
       "0                           NaN   \n",
       "1                           NaN   \n",
       "2                           NaN   \n",
       "3                           NaN   \n",
       "4                           NaN   \n",
       "5                           NaN   \n",
       "6                           NaN   \n",
       "7   OTROS SERVICIOS FINANCIEROS   \n",
       "8                           NaN   \n",
       "9                           NaN   \n",
       "10                          NaN   \n",
       "11                          NaN   \n",
       "12                          NaN   \n",
       "13                          NaN   \n",
       "14                          NaN   \n",
       "15                          NaN   \n",
       "16                       BANCOS   \n",
       "17                          NaN   \n",
       "18                       BANCOS   \n",
       "19                          NaN   \n",
       "\n",
       "                                          descripcion  \n",
       "0                                                 NaN  \n",
       "1                                                 NaN  \n",
       "2                                                 NaN  \n",
       "3                                                 NaN  \n",
       "4                                                 NaN  \n",
       "5                                                 NaN  \n",
       "6                                                 NaN  \n",
       "7   Otras actividades auxiliares de las actividade...  \n",
       "8                                                 NaN  \n",
       "9                                                 NaN  \n",
       "10                                                NaN  \n",
       "11                                                NaN  \n",
       "12                                                NaN  \n",
       "13                                                NaN  \n",
       "14                                                NaN  \n",
       "15                                                NaN  \n",
       "16                                 Bancos comerciales  \n",
       "17                                                NaN  \n",
       "18                                 Bancos comerciales  \n",
       "19                                                NaN  "
      ]
     },
     "execution_count": 6,
     "metadata": {},
     "output_type": "execute_result"
    }
   ],
   "source": [
    "print(transacs_tot.shape)\n",
    "print(transacs_tot.dtypes)\n",
    "transacs_tot.head(20)"
   ]
  },
  {
   "cell_type": "markdown",
   "metadata": {},
   "source": [
    "# Outliars\n",
    "\n"
   ]
  },
  {
   "cell_type": "markdown",
   "metadata": {},
   "source": [
    "# cantidad transacción"
   ]
  },
  {
   "cell_type": "code",
   "execution_count": 7,
   "metadata": {},
   "outputs": [
    {
     "data": {
      "text/plain": [
       "count    1.183951e+07\n",
       "mean     3.670536e+05\n",
       "std      1.596215e+06\n",
       "min      1.000000e-02\n",
       "25%      5.200712e+04\n",
       "50%      1.261556e+05\n",
       "75%      3.019570e+05\n",
       "max      1.788605e+09\n",
       "Name: valor_trx, dtype: float64"
      ]
     },
     "execution_count": 7,
     "metadata": {},
     "output_type": "execute_result"
    }
   ],
   "source": [
    "transacs_tot.valor_trx.describe()"
   ]
  },
  {
   "cell_type": "code",
   "execution_count": 8,
   "metadata": {},
   "outputs": [
    {
     "data": {
      "text/plain": [
       "array([[0.97246961],\n",
       "       [0.54618222],\n",
       "       [0.40348738],\n",
       "       ...,\n",
       "       [0.70225366],\n",
       "       [0.74459773],\n",
       "       [0.7841806 ]])"
      ]
     },
     "execution_count": 8,
     "metadata": {},
     "output_type": "execute_result"
    }
   ],
   "source": [
    "quantile_transformer = preprocessing.QuantileTransformer(random_state=0)\n",
    "centil_valor_trx = quantile_transformer.fit_transform(np.array(transacs_tot.valor_trx).reshape(-1, 1))\n",
    "centil_valor_trx"
   ]
  },
  {
   "cell_type": "code",
   "execution_count": 9,
   "metadata": {},
   "outputs": [
    {
     "data": {
      "text/plain": [
       "<matplotlib.collections.PathCollection at 0x1f326bb46d8>"
      ]
     },
     "execution_count": 9,
     "metadata": {},
     "output_type": "execute_result"
    },
    {
     "data": {
      "image/png": "[encoded data removed]",
      "text/plain": [
       "<Figure size 1152x648 with 1 Axes>"
      ]
     },
     "metadata": {
      "needs_background": "light"
     },
     "output_type": "display_data"
    },
    {
     "data": {
      "image/png": "[encoded data removed]",
      "text/plain": [
       "<Figure size 1152x648 with 1 Axes>"
      ]
     },
     "metadata": {
      "needs_background": "light"
     },
     "output_type": "display_data"
    }
   ],
   "source": [
    "lim_inf=10e6\n",
    "lim_sup=20e6\n",
    "\n",
    "plt.figure(figsize=(16,9))\n",
    "transacs_arr=np.array(transacs_tot.valor_trx).reshape(-1, 1)\n",
    "sns.scatterplot(centil_valor_trx[(transacs_arr>lim_inf)&(transacs_arr<lim_sup)],\n",
    "                transacs_arr    [(transacs_arr>lim_inf)&(transacs_arr<lim_sup)], alpha=0.01)#.005))\n",
    "\n",
    "plt.figure(figsize=(16,9))\n",
    "plt.scatter(x=range(len(transacs_arr[(transacs_arr>=lim_inf)&(transacs_arr<=lim_sup)])),\n",
    "            y=np.sort(transacs_arr[(transacs_arr>=lim_inf)&(transacs_arr<=lim_sup)]), alpha=0.01)#.005)"
   ]
  },
  {
   "cell_type": "code",
   "execution_count": 10,
   "metadata": {},
   "outputs": [
    {
     "name": "stdout",
     "output_type": "stream",
     "text": [
      "CONTEOS\n",
      "[2070] Transacciones entre 16 y 20 mill\n",
      "[5925] Transacciones mayores a 16 mill\n",
      "[3855] Transacciones mayores a 20 mill\n",
      "[11833587] Transacciones Menores a 16 mill\n",
      "[11835657] Transacciones Menores a 20 mill\n",
      "\n",
      " DESVIACIONES ESTÁNDAR\n",
      "1192405.4371143472 Transacciones entre 16 y 20 mill\n",
      "51421406.95933289 Transacciones mayores a 16 mill\n",
      "62069457.241783805 Transacciones mayores a 20 mill\n",
      "816689.0819851798 Transacciones menores a 16 mill\n",
      "848653.2664377928 Transacciones menores a 20 mill\n"
     ]
    }
   ],
   "source": [
    "print(\"CONTEOS\")\n",
    "print (sum((transacs_arr<20e6)&(transacs_arr>16e6)), \"Transacciones entre 16 y 20 mill\")\n",
    "print (sum((transacs_arr>16e6)), \"Transacciones mayores a 16 mill\")\n",
    "print (sum((transacs_arr>20e6)), \"Transacciones mayores a 20 mill\")\n",
    "print (sum((transacs_arr<=16e6)), \"Transacciones Menores a 16 mill\")\n",
    "print (sum((transacs_arr<=20e6)), \"Transacciones Menores a 20 mill\")\n",
    "\n",
    "print(\"\\n\",\"DESVIACIONES ESTÁNDAR\")\n",
    "print (transacs_arr[(transacs_arr<20e6)&(transacs_arr>16e6)].std(), \"Transacciones entre 16 y 20 mill\")\n",
    "print (transacs_arr[transacs_arr>16e6].std(), \"Transacciones mayores a 16 mill\")\n",
    "print (transacs_arr[transacs_arr>20e6].std(), \"Transacciones mayores a 20 mill\")\n",
    "print (transacs_arr[transacs_arr<=16e6].std(), \"Transacciones menores a 16 mill\")\n",
    "print (transacs_arr[transacs_arr<=20e6].std(), \"Transacciones menores a 20 mill\")\n"
   ]
  },
  {
   "cell_type": "code",
   "execution_count": 11,
   "metadata": {},
   "outputs": [
    {
     "data": {
      "text/plain": [
       "<matplotlib.collections.PathCollection at 0x1f326e146d8>"
      ]
     },
     "execution_count": 11,
     "metadata": {},
     "output_type": "execute_result"
    },
    {
     "data": {
      "image/png": "[encoded data removed]",
      "text/plain": [
       "<Figure size 1152x648 with 1 Axes>"
      ]
     },
     "metadata": {
      "needs_background": "light"
     },
     "output_type": "display_data"
    },
    {
     "data": {
      "image/png": "[encoded data removed]",
      "text/plain": [
       "<Figure size 1152x648 with 1 Axes>"
      ]
     },
     "metadata": {
      "needs_background": "light"
     },
     "output_type": "display_data"
    }
   ],
   "source": [
    "lim_inf=900\n",
    "lim_sup=1100\n",
    "\n",
    "plt.figure(figsize=(16,9))\n",
    "transacs_arr=np.array(transacs_tot.valor_trx).reshape(-1, 1)\n",
    "sns.scatterplot(centil_valor_trx[(transacs_arr>lim_inf)&(transacs_arr<lim_sup)],\n",
    "                transacs_arr    [(transacs_arr>lim_inf)&(transacs_arr<lim_sup)], alpha=0.01)\n",
    "\n",
    "plt.figure(figsize=(16,9))\n",
    "plt.scatter(x=range(len(transacs_arr[(transacs_arr>=lim_inf)&(transacs_arr<=lim_sup)])),\n",
    "            y=np.sort(transacs_arr[(transacs_arr>=lim_inf)&(transacs_arr<=lim_sup)]), alpha=0.01)"
   ]
  },
  {
   "cell_type": "code",
   "execution_count": 12,
   "metadata": {},
   "outputs": [
    {
     "name": "stdout",
     "output_type": "stream",
     "text": [
      "CONTEOS\n",
      "[14631] Transacciones entre 950 y 1600 \n",
      "[16927] Transacciones Menores a 950\n",
      "[31559] Transacciones Menores a 1600\n",
      "[11822585] Transacciones mayores a 950\n",
      "[11807953] Transacciones mayores a 1600\n",
      "\n",
      " DESVIACIONES ESTÁNDAR\n",
      "187.15658467720132 Transacciones entre 950 y 1600 \n",
      "364.8088557705127 Transacciones Menores a 950\n",
      "474.0343392970338 Transacciones Menores a 1600\n",
      "1597562.498782339 Transacciones mayores a 950\n",
      "1598234.4703419374 Transacciones mayores a 1600\n"
     ]
    }
   ],
   "source": [
    "print(\"CONTEOS\")\n",
    "print (sum((transacs_arr<1600)&(transacs_arr>950)), \"Transacciones entre 950 y 1600 \")\n",
    "print (sum((transacs_arr<950)), \"Transacciones Menores a 950\")\n",
    "print (sum((transacs_arr<1600)), \"Transacciones Menores a 1600\")\n",
    "print (sum((transacs_arr>=950)), \"Transacciones mayores a 950\")\n",
    "print (sum((transacs_arr>=1600)), \"Transacciones mayores a 1600\")\n",
    "\n",
    "print(\"\\n\",\"DESVIACIONES ESTÁNDAR\")\n",
    "print (transacs_arr[(transacs_arr<1600)&(transacs_arr>1000)].std(), \"Transacciones entre 950 y 1600 \")\n",
    "print (transacs_arr[transacs_arr<1000].std(), \"Transacciones Menores a 950\")\n",
    "print (transacs_arr[transacs_arr<1600].std(), \"Transacciones Menores a 1600\")\n",
    "print (transacs_arr[transacs_arr>=1000].std(), \"Transacciones mayores a 950\")\n",
    "print (transacs_arr[transacs_arr>=1600].std(), \"Transacciones mayores a 1600\")"
   ]
  },
  {
   "cell_type": "markdown",
   "metadata": {},
   "source": [
    "### Eliminar \n",
    "\n",
    "### transacciones superiores a 16 millones de pesos\n",
    "Se encontró que : \n",
    "* Al ordenar por percentiles se observa un comportamiento anómalo en el valor de la transacción\n",
    "* Se observa un efecto techo sobre este valor y un cambio no esperado en el comportamiento de la variable cuando se ordenan las transacciones por su valor\n",
    "* Por el peso sobre la varianza, respecto a la proporción de datos, consideramos que 16 millones es un criterio discreto para limitar los outliars.\n",
    "\n",
    "\n",
    "### transacciones menores a 950 pesos\n",
    "Se encontró que : \n",
    "* Se observa un efecto techo sobre este valor y un cambio en el comportamiento de la variable cuando se ordenan las transacciones por su valor\n",
    "* La revisión de diferentes páginas dan como pago mínimo por PSE valores cercanos a los 1000."
   ]
  },
  {
   "cell_type": "code",
   "execution_count": 13,
   "metadata": {},
   "outputs": [],
   "source": [
    "transacs_tot=transacs_tot.loc[(transacs_tot.valor_trx<=16e6)&(transacs_tot.valor_trx>=950)]"
   ]
  },
  {
   "cell_type": "code",
   "execution_count": 14,
   "metadata": {},
   "outputs": [
    {
     "data": {
      "text/plain": [
       "count    1.181666e+07\n",
       "mean     3.508401e+05\n",
       "std      8.171663e+05\n",
       "min      9.500000e+02\n",
       "25%      5.217644e+04\n",
       "50%      1.263564e+05\n",
       "75%      3.019337e+05\n",
       "max      1.599997e+07\n",
       "Name: valor_trx, dtype: float64"
      ]
     },
     "execution_count": 14,
     "metadata": {},
     "output_type": "execute_result"
    }
   ],
   "source": [
    "transacs_tot.valor_trx.describe()"
   ]
  },
  {
   "cell_type": "markdown",
   "metadata": {},
   "source": [
    "### Checkpoint- Guardar filtrados "
   ]
  },
  {
   "cell_type": "code",
   "execution_count": 15,
   "metadata": {},
   "outputs": [],
   "source": [
    "transacs_tot.to_csv(\"transacs_tot.csv\")"
   ]
  },
  {
   "cell_type": "code",
   "execution_count": 16,
   "metadata": {},
   "outputs": [
    {
     "name": "stderr",
     "output_type": "stream",
     "text": [
      "C:\\ProgramData\\Anaconda3\\lib\\site-packages\\numpy\\lib\\arraysetops.py:522: FutureWarning: elementwise comparison failed; returning scalar instead, but in the future will perform elementwise comparison\n",
      "  mask |= (ar1 == a)\n"
     ]
    },
    {
     "name": "stdout",
     "output_type": "stream",
     "text": [
      "(11816660, 8)\n",
      "id_trn_ach              int64\n",
      "id_cliente              int64\n",
      "fec_hor        datetime64[ns]\n",
      "valor_trx             float64\n",
      "ref                    object\n",
      "sector                 object\n",
      "subsector              object\n",
      "descripcion            object\n",
      "dtype: object\n"
     ]
    },
    {
     "data": {
      "text/html": [
       "<div>\n",
       "<style scoped>\n",
       "    .dataframe tbody tr th:only-of-type {\n",
       "        vertical-align: middle;\n",
       "    }\n",
       "\n",
       "    .dataframe tbody tr th {\n",
       "        vertical-align: top;\n",
       "    }\n",
       "\n",
       "    .dataframe thead th {\n",
       "        text-align: right;\n",
       "    }\n",
       "</style>\n",
       "<table border=\"1\" class=\"dataframe\">\n",
       "  <thead>\n",
       "    <tr style=\"text-align: right;\">\n",
       "      <th></th>\n",
       "      <th>id_trn_ach</th>\n",
       "      <th>id_cliente</th>\n",
       "      <th>fec_hor</th>\n",
       "      <th>valor_trx</th>\n",
       "      <th>ref</th>\n",
       "      <th>sector</th>\n",
       "      <th>subsector</th>\n",
       "      <th>descripcion</th>\n",
       "    </tr>\n",
       "  </thead>\n",
       "  <tbody>\n",
       "    <tr>\n",
       "      <th>0</th>\n",
       "      <td>230435642</td>\n",
       "      <td>3</td>\n",
       "      <td>2016-12-07 11:34:51</td>\n",
       "      <td>2122392.51</td>\n",
       "      <td>CC</td>\n",
       "      <td>NaN</td>\n",
       "      <td>NaN</td>\n",
       "      <td>NaN</td>\n",
       "    </tr>\n",
       "    <tr>\n",
       "      <th>1</th>\n",
       "      <td>222356110</td>\n",
       "      <td>10</td>\n",
       "      <td>2016-10-16 03:42:04</td>\n",
       "      <td>148438.37</td>\n",
       "      <td>Referencia:  Contrato:  Valor: CC</td>\n",
       "      <td>NaN</td>\n",
       "      <td>NaN</td>\n",
       "      <td>NaN</td>\n",
       "    </tr>\n",
       "    <tr>\n",
       "      <th>2</th>\n",
       "      <td>309137749</td>\n",
       "      <td>10</td>\n",
       "      <td>2018-01-20 19:50:42</td>\n",
       "      <td>94025.19</td>\n",
       "      <td>CC</td>\n",
       "      <td>NaN</td>\n",
       "      <td>NaN</td>\n",
       "      <td>NaN</td>\n",
       "    </tr>\n",
       "    <tr>\n",
       "      <th>3</th>\n",
       "      <td>324614737</td>\n",
       "      <td>10</td>\n",
       "      <td>2018-03-26 19:21:46</td>\n",
       "      <td>94430.07</td>\n",
       "      <td>CC</td>\n",
       "      <td>NaN</td>\n",
       "      <td>NaN</td>\n",
       "      <td>NaN</td>\n",
       "    </tr>\n",
       "    <tr>\n",
       "      <th>4</th>\n",
       "      <td>235344690</td>\n",
       "      <td>18</td>\n",
       "      <td>2017-01-06 20:13:17</td>\n",
       "      <td>670645.57</td>\n",
       "      <td>MEDICINA PREPAGADA COLSANITAS CE</td>\n",
       "      <td>NaN</td>\n",
       "      <td>NaN</td>\n",
       "      <td>NaN</td>\n",
       "    </tr>\n",
       "  </tbody>\n",
       "</table>\n",
       "</div>"
      ],
      "text/plain": [
       "   id_trn_ach  id_cliente             fec_hor   valor_trx  \\\n",
       "0   230435642           3 2016-12-07 11:34:51  2122392.51   \n",
       "1   222356110          10 2016-10-16 03:42:04   148438.37   \n",
       "2   309137749          10 2018-01-20 19:50:42    94025.19   \n",
       "3   324614737          10 2018-03-26 19:21:46    94430.07   \n",
       "4   235344690          18 2017-01-06 20:13:17   670645.57   \n",
       "\n",
       "                                  ref sector subsector descripcion  \n",
       "0                                CC      NaN       NaN         NaN  \n",
       "1  Referencia:  Contrato:  Valor: CC     NaN       NaN         NaN  \n",
       "2                                CC      NaN       NaN         NaN  \n",
       "3                                CC      NaN       NaN         NaN  \n",
       "4   MEDICINA PREPAGADA COLSANITAS CE     NaN       NaN         NaN  "
      ]
     },
     "execution_count": 16,
     "metadata": {},
     "output_type": "execute_result"
    }
   ],
   "source": [
    "transacs_tot=pd.read_csv(\"transacs_tot.csv\",index_col=0)\n",
    "transacs_tot.fec_hor=pd.to_datetime(transacs_tot.fec_hor)\n",
    "print(transacs_tot.shape)\n",
    "print(transacs_tot.dtypes)\n",
    "transacs_tot.head()"
   ]
  },
  {
   "cell_type": "markdown",
   "metadata": {},
   "source": [
    "# Marcas temporales (Agrupación de Fechas)\n",
    "\n",
    "Se toman valores de las fechas como features para los algoritmos"
   ]
  },
  {
   "cell_type": "markdown",
   "metadata": {},
   "source": [
    "## Agregar la codificación del dia del mes y las demás marcas temporales que se le agregaron a todas las transacciones"
   ]
  },
  {
   "cell_type": "code",
   "execution_count": 17,
   "metadata": {},
   "outputs": [],
   "source": [
    "marcs_temp=[\"dia_sem_num\",\"dia_mes_num\",\"dia_year_num\",\"hora_num\",\"year_num\",\"mes_num\",\"semana_year_num\",\"period_mens\",\"period_sem\"]"
   ]
  },
  {
   "cell_type": "code",
   "execution_count": 18,
   "metadata": {},
   "outputs": [],
   "source": [
    "transacs_tot[\"dia_sem_num\"]=  transacs_tot.fec_hor.dt.weekday #Dia de la semana número 0=lunes 6=Domingo\n",
    "transacs_tot[\"dia_mes_num\"]=  transacs_tot.fec_hor.dt.day #Dia del mes  0:30\n",
    "transacs_tot[\"dia_year_num\"]=  transacs_tot.fec_hor.dt.dayofyear #Dia del año  0:365\n",
    "transacs_tot[\"hora_num\"]= transacs_tot.fec_hor.dt.hour    #Hora del día\n",
    "transacs_tot[\"year_num\"]= transacs_tot.fec_hor.dt.year    #Hora del día\n",
    "transacs_tot[\"mes_num\"]= transacs_tot.fec_hor.dt.month    #Hora del día\n",
    "transacs_tot[\"semana_year_num\"]= transacs_tot.fec_hor.dt.weekofyear    #Semana del año  0:52\n",
    "transacs_tot[\"period_mens\"]=transacs_tot.fec_hor.dt.to_period(\"M\")\n",
    "transacs_tot[\"period_sem\"]=transacs_tot.fec_hor.dt.to_period(\"W\")"
   ]
  },
  {
   "cell_type": "markdown",
   "metadata": {},
   "source": [
    "### Checkpoint- Guardar Anotaciones de fechas "
   ]
  },
  {
   "cell_type": "code",
   "execution_count": 19,
   "metadata": {},
   "outputs": [],
   "source": [
    "transacs_tot.to_csv(\"transacs_tot_periods.csv\")"
   ]
  },
  {
   "cell_type": "markdown",
   "metadata": {},
   "source": [
    "## Frecuencia de las transacciones de los clientes"
   ]
  },
  {
   "cell_type": "code",
   "execution_count": 20,
   "metadata": {},
   "outputs": [
    {
     "name": "stdout",
     "output_type": "stream",
     "text": [
      "(338418, 2)\n"
     ]
    },
    {
     "data": {
      "text/html": [
       "<div>\n",
       "<style scoped>\n",
       "    .dataframe tbody tr th:only-of-type {\n",
       "        vertical-align: middle;\n",
       "    }\n",
       "\n",
       "    .dataframe tbody tr th {\n",
       "        vertical-align: top;\n",
       "    }\n",
       "\n",
       "    .dataframe thead th {\n",
       "        text-align: right;\n",
       "    }\n",
       "</style>\n",
       "<table border=\"1\" class=\"dataframe\">\n",
       "  <thead>\n",
       "    <tr style=\"text-align: right;\">\n",
       "      <th>col_0</th>\n",
       "      <th>count</th>\n",
       "      <th>id_cliente</th>\n",
       "    </tr>\n",
       "    <tr>\n",
       "      <th>id_cliente</th>\n",
       "      <th></th>\n",
       "      <th></th>\n",
       "    </tr>\n",
       "  </thead>\n",
       "  <tbody>\n",
       "    <tr>\n",
       "      <th>1</th>\n",
       "      <td>26</td>\n",
       "      <td>1</td>\n",
       "    </tr>\n",
       "    <tr>\n",
       "      <th>2</th>\n",
       "      <td>6</td>\n",
       "      <td>2</td>\n",
       "    </tr>\n",
       "    <tr>\n",
       "      <th>3</th>\n",
       "      <td>53</td>\n",
       "      <td>3</td>\n",
       "    </tr>\n",
       "    <tr>\n",
       "      <th>4</th>\n",
       "      <td>7</td>\n",
       "      <td>4</td>\n",
       "    </tr>\n",
       "    <tr>\n",
       "      <th>5</th>\n",
       "      <td>27</td>\n",
       "      <td>5</td>\n",
       "    </tr>\n",
       "    <tr>\n",
       "      <th>6</th>\n",
       "      <td>12</td>\n",
       "      <td>6</td>\n",
       "    </tr>\n",
       "    <tr>\n",
       "      <th>7</th>\n",
       "      <td>1</td>\n",
       "      <td>7</td>\n",
       "    </tr>\n",
       "    <tr>\n",
       "      <th>8</th>\n",
       "      <td>1</td>\n",
       "      <td>8</td>\n",
       "    </tr>\n",
       "    <tr>\n",
       "      <th>9</th>\n",
       "      <td>33</td>\n",
       "      <td>9</td>\n",
       "    </tr>\n",
       "    <tr>\n",
       "      <th>10</th>\n",
       "      <td>81</td>\n",
       "      <td>10</td>\n",
       "    </tr>\n",
       "  </tbody>\n",
       "</table>\n",
       "</div>"
      ],
      "text/plain": [
       "col_0       count  id_cliente\n",
       "id_cliente                   \n",
       "1              26           1\n",
       "2               6           2\n",
       "3              53           3\n",
       "4               7           4\n",
       "5              27           5\n",
       "6              12           6\n",
       "7               1           7\n",
       "8               1           8\n",
       "9              33           9\n",
       "10             81          10"
      ]
     },
     "execution_count": 20,
     "metadata": {},
     "output_type": "execute_result"
    }
   ],
   "source": [
    "freq_idclients=pd.crosstab(transacs_tot.id_cliente, columns=\"count\")\n",
    "freq_idclients[\"id_cliente\"]=freq_idclients.index\n",
    "print(freq_idclients.shape)\n",
    "freq_idclients.head(10)"
   ]
  },
  {
   "cell_type": "code",
   "execution_count": 21,
   "metadata": {},
   "outputs": [
    {
     "data": {
      "text/html": [
       "<div>\n",
       "<style scoped>\n",
       "    .dataframe tbody tr th:only-of-type {\n",
       "        vertical-align: middle;\n",
       "    }\n",
       "\n",
       "    .dataframe tbody tr th {\n",
       "        vertical-align: top;\n",
       "    }\n",
       "\n",
       "    .dataframe thead th {\n",
       "        text-align: right;\n",
       "    }\n",
       "</style>\n",
       "<table border=\"1\" class=\"dataframe\">\n",
       "  <thead>\n",
       "    <tr style=\"text-align: right;\">\n",
       "      <th></th>\n",
       "      <th>valor_trx</th>\n",
       "      <th>id_cliente</th>\n",
       "    </tr>\n",
       "    <tr>\n",
       "      <th>id_cliente</th>\n",
       "      <th></th>\n",
       "      <th></th>\n",
       "    </tr>\n",
       "  </thead>\n",
       "  <tbody>\n",
       "    <tr>\n",
       "      <th>1</th>\n",
       "      <td>42769383.24</td>\n",
       "      <td>1</td>\n",
       "    </tr>\n",
       "    <tr>\n",
       "      <th>2</th>\n",
       "      <td>1365034.29</td>\n",
       "      <td>2</td>\n",
       "    </tr>\n",
       "    <tr>\n",
       "      <th>3</th>\n",
       "      <td>12058409.54</td>\n",
       "      <td>3</td>\n",
       "    </tr>\n",
       "    <tr>\n",
       "      <th>4</th>\n",
       "      <td>2534093.31</td>\n",
       "      <td>4</td>\n",
       "    </tr>\n",
       "    <tr>\n",
       "      <th>5</th>\n",
       "      <td>10990697.40</td>\n",
       "      <td>5</td>\n",
       "    </tr>\n",
       "  </tbody>\n",
       "</table>\n",
       "</div>"
      ],
      "text/plain": [
       "              valor_trx  id_cliente\n",
       "id_cliente                         \n",
       "1           42769383.24           1\n",
       "2            1365034.29           2\n",
       "3           12058409.54           3\n",
       "4            2534093.31           4\n",
       "5           10990697.40           5"
      ]
     },
     "execution_count": 21,
     "metadata": {},
     "output_type": "execute_result"
    }
   ],
   "source": [
    "val_tot_transac=pd.DataFrame(transacs_tot[[\"id_cliente\",\"valor_trx\"]].groupby(\"id_cliente\").sum())\n",
    "val_tot_transac[\"id_cliente\"]=val_tot_transac.index\n",
    "val_tot_transac.head()"
   ]
  },
  {
   "cell_type": "code",
   "execution_count": 22,
   "metadata": {},
   "outputs": [
    {
     "name": "stderr",
     "output_type": "stream",
     "text": [
      "C:\\ProgramData\\Anaconda3\\lib\\site-packages\\IPython\\core\\interactiveshell.py:2961: FutureWarning: 'id_cliente' is both an index level and a column label.\n",
      "Defaulting to column, but this will raise an ambiguity error in a future version\n",
      "  exec(code_obj, self.user_global_ns, self.user_ns)\n"
     ]
    }
   ],
   "source": [
    "client_fr_val = pd.merge(freq_idclients, val_tot_transac, on='id_cliente')\n",
    "client_fr_val=client_fr_val[[\"id_cliente\",\"count\",\"valor_trx\"]]\n",
    "client_fr_val.columns=[\"id_cliente\",\"count\",\"valor_trx_suma\"]\n",
    "client_fr_val.head()\n",
    "client_fr_val.to_csv(\"client_fr_val.csv\")"
   ]
  },
  {
   "cell_type": "markdown",
   "metadata": {},
   "source": [
    "# Explorar NULOS"
   ]
  },
  {
   "cell_type": "code",
   "execution_count": 23,
   "metadata": {},
   "outputs": [
    {
     "name": "stderr",
     "output_type": "stream",
     "text": [
      "C:\\ProgramData\\Anaconda3\\lib\\site-packages\\numpy\\lib\\arraysetops.py:522: FutureWarning: elementwise comparison failed; returning scalar instead, but in the future will perform elementwise comparison\n",
      "  mask |= (ar1 == a)\n"
     ]
    },
    {
     "name": "stdout",
     "output_type": "stream",
     "text": [
      "(11816660, 17)\n",
      "id_trn_ach                  int64\n",
      "id_cliente                  int64\n",
      "fec_hor            datetime64[ns]\n",
      "valor_trx                 float64\n",
      "ref                        object\n",
      "sector                     object\n",
      "subsector                  object\n",
      "descripcion                object\n",
      "dia_sem_num               float64\n",
      "dia_mes_num               float64\n",
      "dia_year_num              float64\n",
      "hora_num                  float64\n",
      "year_num                  float64\n",
      "mes_num                   float64\n",
      "semana_year_num           float64\n",
      "period_mens                object\n",
      "period_sem                 object\n",
      "dtype: object\n"
     ]
    },
    {
     "data": {
      "text/html": [
       "<div>\n",
       "<style scoped>\n",
       "    .dataframe tbody tr th:only-of-type {\n",
       "        vertical-align: middle;\n",
       "    }\n",
       "\n",
       "    .dataframe tbody tr th {\n",
       "        vertical-align: top;\n",
       "    }\n",
       "\n",
       "    .dataframe thead th {\n",
       "        text-align: right;\n",
       "    }\n",
       "</style>\n",
       "<table border=\"1\" class=\"dataframe\">\n",
       "  <thead>\n",
       "    <tr style=\"text-align: right;\">\n",
       "      <th></th>\n",
       "      <th>id_trn_ach</th>\n",
       "      <th>id_cliente</th>\n",
       "      <th>fec_hor</th>\n",
       "      <th>valor_trx</th>\n",
       "      <th>ref</th>\n",
       "      <th>sector</th>\n",
       "      <th>subsector</th>\n",
       "      <th>descripcion</th>\n",
       "      <th>dia_sem_num</th>\n",
       "      <th>dia_mes_num</th>\n",
       "      <th>dia_year_num</th>\n",
       "      <th>hora_num</th>\n",
       "      <th>year_num</th>\n",
       "      <th>mes_num</th>\n",
       "      <th>semana_year_num</th>\n",
       "      <th>period_mens</th>\n",
       "      <th>period_sem</th>\n",
       "    </tr>\n",
       "  </thead>\n",
       "  <tbody>\n",
       "    <tr>\n",
       "      <th>0</th>\n",
       "      <td>230435642</td>\n",
       "      <td>3</td>\n",
       "      <td>2016-12-07 11:34:51</td>\n",
       "      <td>2122392.51</td>\n",
       "      <td>CC</td>\n",
       "      <td>NaN</td>\n",
       "      <td>NaN</td>\n",
       "      <td>NaN</td>\n",
       "      <td>2.0</td>\n",
       "      <td>7.0</td>\n",
       "      <td>342.0</td>\n",
       "      <td>11.0</td>\n",
       "      <td>2016.0</td>\n",
       "      <td>12.0</td>\n",
       "      <td>49.0</td>\n",
       "      <td>2016-12</td>\n",
       "      <td>2016-12-05/2016-12-11</td>\n",
       "    </tr>\n",
       "    <tr>\n",
       "      <th>1</th>\n",
       "      <td>222356110</td>\n",
       "      <td>10</td>\n",
       "      <td>2016-10-16 03:42:04</td>\n",
       "      <td>148438.37</td>\n",
       "      <td>Referencia:  Contrato:  Valor: CC</td>\n",
       "      <td>NaN</td>\n",
       "      <td>NaN</td>\n",
       "      <td>NaN</td>\n",
       "      <td>6.0</td>\n",
       "      <td>16.0</td>\n",
       "      <td>290.0</td>\n",
       "      <td>3.0</td>\n",
       "      <td>2016.0</td>\n",
       "      <td>10.0</td>\n",
       "      <td>41.0</td>\n",
       "      <td>2016-10</td>\n",
       "      <td>2016-10-10/2016-10-16</td>\n",
       "    </tr>\n",
       "    <tr>\n",
       "      <th>2</th>\n",
       "      <td>309137749</td>\n",
       "      <td>10</td>\n",
       "      <td>2018-01-20 19:50:42</td>\n",
       "      <td>94025.19</td>\n",
       "      <td>CC</td>\n",
       "      <td>NaN</td>\n",
       "      <td>NaN</td>\n",
       "      <td>NaN</td>\n",
       "      <td>5.0</td>\n",
       "      <td>20.0</td>\n",
       "      <td>20.0</td>\n",
       "      <td>19.0</td>\n",
       "      <td>2018.0</td>\n",
       "      <td>1.0</td>\n",
       "      <td>3.0</td>\n",
       "      <td>2018-01</td>\n",
       "      <td>2018-01-15/2018-01-21</td>\n",
       "    </tr>\n",
       "    <tr>\n",
       "      <th>3</th>\n",
       "      <td>324614737</td>\n",
       "      <td>10</td>\n",
       "      <td>2018-03-26 19:21:46</td>\n",
       "      <td>94430.07</td>\n",
       "      <td>CC</td>\n",
       "      <td>NaN</td>\n",
       "      <td>NaN</td>\n",
       "      <td>NaN</td>\n",
       "      <td>0.0</td>\n",
       "      <td>26.0</td>\n",
       "      <td>85.0</td>\n",
       "      <td>19.0</td>\n",
       "      <td>2018.0</td>\n",
       "      <td>3.0</td>\n",
       "      <td>13.0</td>\n",
       "      <td>2018-03</td>\n",
       "      <td>2018-03-26/2018-04-01</td>\n",
       "    </tr>\n",
       "    <tr>\n",
       "      <th>4</th>\n",
       "      <td>235344690</td>\n",
       "      <td>18</td>\n",
       "      <td>2017-01-06 20:13:17</td>\n",
       "      <td>670645.57</td>\n",
       "      <td>MEDICINA PREPAGADA COLSANITAS CE</td>\n",
       "      <td>NaN</td>\n",
       "      <td>NaN</td>\n",
       "      <td>NaN</td>\n",
       "      <td>4.0</td>\n",
       "      <td>6.0</td>\n",
       "      <td>6.0</td>\n",
       "      <td>20.0</td>\n",
       "      <td>2017.0</td>\n",
       "      <td>1.0</td>\n",
       "      <td>1.0</td>\n",
       "      <td>2017-01</td>\n",
       "      <td>2017-01-02/2017-01-08</td>\n",
       "    </tr>\n",
       "  </tbody>\n",
       "</table>\n",
       "</div>"
      ],
      "text/plain": [
       "   id_trn_ach  id_cliente             fec_hor   valor_trx  \\\n",
       "0   230435642           3 2016-12-07 11:34:51  2122392.51   \n",
       "1   222356110          10 2016-10-16 03:42:04   148438.37   \n",
       "2   309137749          10 2018-01-20 19:50:42    94025.19   \n",
       "3   324614737          10 2018-03-26 19:21:46    94430.07   \n",
       "4   235344690          18 2017-01-06 20:13:17   670645.57   \n",
       "\n",
       "                                  ref sector subsector descripcion  \\\n",
       "0                                CC      NaN       NaN         NaN   \n",
       "1  Referencia:  Contrato:  Valor: CC     NaN       NaN         NaN   \n",
       "2                                CC      NaN       NaN         NaN   \n",
       "3                                CC      NaN       NaN         NaN   \n",
       "4   MEDICINA PREPAGADA COLSANITAS CE     NaN       NaN         NaN   \n",
       "\n",
       "   dia_sem_num  dia_mes_num  dia_year_num  hora_num  year_num  mes_num  \\\n",
       "0          2.0          7.0         342.0      11.0    2016.0     12.0   \n",
       "1          6.0         16.0         290.0       3.0    2016.0     10.0   \n",
       "2          5.0         20.0          20.0      19.0    2018.0      1.0   \n",
       "3          0.0         26.0          85.0      19.0    2018.0      3.0   \n",
       "4          4.0          6.0           6.0      20.0    2017.0      1.0   \n",
       "\n",
       "   semana_year_num period_mens             period_sem  \n",
       "0             49.0     2016-12  2016-12-05/2016-12-11  \n",
       "1             41.0     2016-10  2016-10-10/2016-10-16  \n",
       "2              3.0     2018-01  2018-01-15/2018-01-21  \n",
       "3             13.0     2018-03  2018-03-26/2018-04-01  \n",
       "4              1.0     2017-01  2017-01-02/2017-01-08  "
      ]
     },
     "execution_count": 23,
     "metadata": {},
     "output_type": "execute_result"
    }
   ],
   "source": [
    "transacs_tot=pd.read_csv(\"transacs_tot_periods.csv\", index_col=0)#[\"id_trn_ach\",\"id_cliente\",\"fec_hor\", \"valor_trx\"])\n",
    "transacs_tot.fec_hor=pd.to_datetime(transacs_tot.fec_hor)\n",
    "print(transacs_tot.shape)\n",
    "print(transacs_tot.dtypes)\n",
    "transacs_tot.head()"
   ]
  },
  {
   "cell_type": "markdown",
   "metadata": {},
   "source": [
    "## Clientes frecuencia y suma de transacciones"
   ]
  },
  {
   "cell_type": "code",
   "execution_count": 25,
   "metadata": {},
   "outputs": [
    {
     "data": {
      "text/plain": [
       "<matplotlib.axes._subplots.AxesSubplot at 0x1f40d407588>"
      ]
     },
     "execution_count": 25,
     "metadata": {},
     "output_type": "execute_result"
    },
    {
     "data": {
      "image/png": "[encoded data removed]",
      "text/plain": [
       "<Figure size 1008x1008 with 1 Axes>"
      ]
     },
     "metadata": {
      "needs_background": "light"
     },
     "output_type": "display_data"
    }
   ],
   "source": [
    "client_fr_val.plot(kind=\"scatter\",x=\"count\", y=\"valor_trx_suma\",figsize=(14,14))"
   ]
  },
  {
   "cell_type": "code",
   "execution_count": 26,
   "metadata": {
    "scrolled": false
   },
   "outputs": [
    {
     "data": {
      "text/plain": [
       "<matplotlib.axes._subplots.AxesSubplot at 0x1f3410b0a90>"
      ]
     },
     "execution_count": 26,
     "metadata": {},
     "output_type": "execute_result"
    },
    {
     "data": {
      "image/png": "[encoded data removed]",
      "text/plain": [
       "<Figure size 1152x648 with 1 Axes>"
      ]
     },
     "metadata": {
      "needs_background": "light"
     },
     "output_type": "display_data"
    }
   ],
   "source": [
    "client_fr_val.sort_values(by=['valor_trx_suma'],ascending=False).valor_trx_suma[:250].plot(use_index=False,figsize=(16,9))#, kind=\"bar\")"
   ]
  }
 ],
 "metadata": {
  "kernelspec": {
   "display_name": "Python 3",
   "language": "python",
   "name": "python3"
  },
  "language_info": {
   "codemirror_mode": {
    "name": "ipython",
    "version": 3
   },
   "file_extension": ".py",
   "mimetype": "text/x-python",
   "name": "python",
   "nbconvert_exporter": "python",
   "pygments_lexer": "ipython3",
   "version": "3.7.0"
  }
 },
 "nbformat": 4,
 "nbformat_minor": 2
}
